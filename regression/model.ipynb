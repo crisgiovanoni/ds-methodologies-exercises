{
 "cells": [
  {
   "cell_type": "markdown",
   "metadata": {},
   "source": [
    "### As a customer analyst, I want to know who has spent the most money with us over their lifetime. I have monthly charges and tenure, so I think I will be able to use those two attributes as features to estimate total_charges. I need to do this within an average of $5.00 per customer."
   ]
  },
  {
   "cell_type": "code",
   "execution_count": 119,
   "metadata": {},
   "outputs": [],
   "source": [
    "import pandas as pd\n",
    "import sklearn.preprocessing\n",
    "import matplotlib.pyplot as plt\n",
    "%matplotlib inline\n",
    "import seaborn as sns\n",
    "\n",
    "from wrangle import wrangle_telco\n",
    "from split_scale import split_my_data, standard_scaler\n",
    "from sklearn.model_selection import train_test_split\n",
    "from sklearn.preprocessing import StandardScaler, QuantileTransformer, PowerTransformer, MinMaxScaler, RobustScaler\n",
    "from sklearn.linear_model import LinearRegression"
   ]
  },
  {
   "cell_type": "markdown",
   "metadata": {},
   "source": [
    "### ACQUIRE & PREPROCESS"
   ]
  },
  {
   "cell_type": "markdown",
   "metadata": {},
   "source": [
    "#### Study the Data"
   ]
  },
  {
   "cell_type": "code",
   "execution_count": 17,
   "metadata": {},
   "outputs": [
    {
     "name": "stdout",
     "output_type": "stream",
     "text": [
      "<class 'pandas.core.frame.DataFrame'>\n",
      "Int64Index: 1685 entries, 0 to 1684\n",
      "Data columns (total 5 columns):\n",
      "customer_id        1685 non-null object\n",
      "monthly_charges    1685 non-null float64\n",
      "tenure             1685 non-null int64\n",
      "multiple_lines     1685 non-null object\n",
      "total_charges      1685 non-null float64\n",
      "dtypes: float64(2), int64(1), object(2)\n",
      "memory usage: 79.0+ KB\n"
     ]
    }
   ],
   "source": [
    "telco = wrangle_telco()\n",
    "\n",
    "telco.head()\n",
    "telco.info()"
   ]
  },
  {
   "cell_type": "code",
   "execution_count": 120,
   "metadata": {},
   "outputs": [
    {
     "ename": "ValueError",
     "evalue": "color kwarg must have one color per data set. 1685 data sets and 1 colors were provided",
     "output_type": "error",
     "traceback": [
      "\u001b[0;31m-----------------------------------------------------------------------\u001b[0m",
      "\u001b[0;31mValueError\u001b[0m                            Traceback (most recent call last)",
      "\u001b[0;32m<ipython-input-120-7f847e43544a>\u001b[0m in \u001b[0;36m<module>\u001b[0;34m\u001b[0m\n\u001b[0;32m----> 1\u001b[0;31m \u001b[0msns\u001b[0m\u001b[0;34m.\u001b[0m\u001b[0mpairplot\u001b[0m\u001b[0;34m(\u001b[0m\u001b[0mtelco\u001b[0m\u001b[0;34m)\u001b[0m\u001b[0;34m\u001b[0m\u001b[0;34m\u001b[0m\u001b[0m\n\u001b[0m",
      "\u001b[0;32m/usr/local/anaconda3/lib/python3.7/site-packages/seaborn/axisgrid.py\u001b[0m in \u001b[0;36mpairplot\u001b[0;34m(data, hue, hue_order, palette, vars, x_vars, y_vars, kind, diag_kind, markers, height, aspect, dropna, plot_kws, diag_kws, grid_kws, size)\u001b[0m\n\u001b[1;32m   2105\u001b[0m     \u001b[0;32mif\u001b[0m \u001b[0mgrid\u001b[0m\u001b[0;34m.\u001b[0m\u001b[0msquare_grid\u001b[0m\u001b[0;34m:\u001b[0m\u001b[0;34m\u001b[0m\u001b[0;34m\u001b[0m\u001b[0m\n\u001b[1;32m   2106\u001b[0m         \u001b[0;32mif\u001b[0m \u001b[0mdiag_kind\u001b[0m \u001b[0;34m==\u001b[0m \u001b[0;34m\"hist\"\u001b[0m\u001b[0;34m:\u001b[0m\u001b[0;34m\u001b[0m\u001b[0;34m\u001b[0m\u001b[0m\n\u001b[0;32m-> 2107\u001b[0;31m             \u001b[0mgrid\u001b[0m\u001b[0;34m.\u001b[0m\u001b[0mmap_diag\u001b[0m\u001b[0;34m(\u001b[0m\u001b[0mplt\u001b[0m\u001b[0;34m.\u001b[0m\u001b[0mhist\u001b[0m\u001b[0;34m,\u001b[0m \u001b[0;34m**\u001b[0m\u001b[0mdiag_kws\u001b[0m\u001b[0;34m)\u001b[0m\u001b[0;34m\u001b[0m\u001b[0;34m\u001b[0m\u001b[0m\n\u001b[0m\u001b[1;32m   2108\u001b[0m         \u001b[0;32melif\u001b[0m \u001b[0mdiag_kind\u001b[0m \u001b[0;34m==\u001b[0m \u001b[0;34m\"kde\"\u001b[0m\u001b[0;34m:\u001b[0m\u001b[0;34m\u001b[0m\u001b[0;34m\u001b[0m\u001b[0m\n\u001b[1;32m   2109\u001b[0m             \u001b[0mdiag_kws\u001b[0m\u001b[0;34m.\u001b[0m\u001b[0msetdefault\u001b[0m\u001b[0;34m(\u001b[0m\u001b[0;34m\"shade\"\u001b[0m\u001b[0;34m,\u001b[0m \u001b[0;32mTrue\u001b[0m\u001b[0;34m)\u001b[0m\u001b[0;34m\u001b[0m\u001b[0;34m\u001b[0m\u001b[0m\n",
      "\u001b[0;32m/usr/local/anaconda3/lib/python3.7/site-packages/seaborn/axisgrid.py\u001b[0m in \u001b[0;36mmap_diag\u001b[0;34m(self, func, **kwargs)\u001b[0m\n\u001b[1;32m   1397\u001b[0m                     \u001b[0mcolor\u001b[0m \u001b[0;34m=\u001b[0m \u001b[0mfixed_color\u001b[0m\u001b[0;34m\u001b[0m\u001b[0;34m\u001b[0m\u001b[0m\n\u001b[1;32m   1398\u001b[0m \u001b[0;34m\u001b[0m\u001b[0m\n\u001b[0;32m-> 1399\u001b[0;31m                 \u001b[0mfunc\u001b[0m\u001b[0;34m(\u001b[0m\u001b[0mdata_k\u001b[0m\u001b[0;34m,\u001b[0m \u001b[0mlabel\u001b[0m\u001b[0;34m=\u001b[0m\u001b[0mlabel_k\u001b[0m\u001b[0;34m,\u001b[0m \u001b[0mcolor\u001b[0m\u001b[0;34m=\u001b[0m\u001b[0mcolor\u001b[0m\u001b[0;34m,\u001b[0m \u001b[0;34m**\u001b[0m\u001b[0mkwargs\u001b[0m\u001b[0;34m)\u001b[0m\u001b[0;34m\u001b[0m\u001b[0;34m\u001b[0m\u001b[0m\n\u001b[0m\u001b[1;32m   1400\u001b[0m \u001b[0;34m\u001b[0m\u001b[0m\n\u001b[1;32m   1401\u001b[0m             \u001b[0mself\u001b[0m\u001b[0;34m.\u001b[0m\u001b[0m_clean_axis\u001b[0m\u001b[0;34m(\u001b[0m\u001b[0max\u001b[0m\u001b[0;34m)\u001b[0m\u001b[0;34m\u001b[0m\u001b[0;34m\u001b[0m\u001b[0m\n",
      "\u001b[0;32m/usr/local/anaconda3/lib/python3.7/site-packages/matplotlib/pyplot.py\u001b[0m in \u001b[0;36mhist\u001b[0;34m(x, bins, range, density, weights, cumulative, bottom, histtype, align, orientation, rwidth, log, color, label, stacked, normed, data, **kwargs)\u001b[0m\n\u001b[1;32m   2634\u001b[0m         \u001b[0malign\u001b[0m\u001b[0;34m=\u001b[0m\u001b[0malign\u001b[0m\u001b[0;34m,\u001b[0m \u001b[0morientation\u001b[0m\u001b[0;34m=\u001b[0m\u001b[0morientation\u001b[0m\u001b[0;34m,\u001b[0m \u001b[0mrwidth\u001b[0m\u001b[0;34m=\u001b[0m\u001b[0mrwidth\u001b[0m\u001b[0;34m,\u001b[0m \u001b[0mlog\u001b[0m\u001b[0;34m=\u001b[0m\u001b[0mlog\u001b[0m\u001b[0;34m,\u001b[0m\u001b[0;34m\u001b[0m\u001b[0;34m\u001b[0m\u001b[0m\n\u001b[1;32m   2635\u001b[0m         \u001b[0mcolor\u001b[0m\u001b[0;34m=\u001b[0m\u001b[0mcolor\u001b[0m\u001b[0;34m,\u001b[0m \u001b[0mlabel\u001b[0m\u001b[0;34m=\u001b[0m\u001b[0mlabel\u001b[0m\u001b[0;34m,\u001b[0m \u001b[0mstacked\u001b[0m\u001b[0;34m=\u001b[0m\u001b[0mstacked\u001b[0m\u001b[0;34m,\u001b[0m \u001b[0mnormed\u001b[0m\u001b[0;34m=\u001b[0m\u001b[0mnormed\u001b[0m\u001b[0;34m,\u001b[0m\u001b[0;34m\u001b[0m\u001b[0;34m\u001b[0m\u001b[0m\n\u001b[0;32m-> 2636\u001b[0;31m         **({\"data\": data} if data is not None else {}), **kwargs)\n\u001b[0m\u001b[1;32m   2637\u001b[0m \u001b[0;34m\u001b[0m\u001b[0m\n\u001b[1;32m   2638\u001b[0m \u001b[0;34m\u001b[0m\u001b[0m\n",
      "\u001b[0;32m/usr/local/anaconda3/lib/python3.7/site-packages/matplotlib/__init__.py\u001b[0m in \u001b[0;36minner\u001b[0;34m(ax, data, *args, **kwargs)\u001b[0m\n\u001b[1;32m   1587\u001b[0m     \u001b[0;32mdef\u001b[0m \u001b[0minner\u001b[0m\u001b[0;34m(\u001b[0m\u001b[0max\u001b[0m\u001b[0;34m,\u001b[0m \u001b[0;34m*\u001b[0m\u001b[0margs\u001b[0m\u001b[0;34m,\u001b[0m \u001b[0mdata\u001b[0m\u001b[0;34m=\u001b[0m\u001b[0;32mNone\u001b[0m\u001b[0;34m,\u001b[0m \u001b[0;34m**\u001b[0m\u001b[0mkwargs\u001b[0m\u001b[0;34m)\u001b[0m\u001b[0;34m:\u001b[0m\u001b[0;34m\u001b[0m\u001b[0;34m\u001b[0m\u001b[0m\n\u001b[1;32m   1588\u001b[0m         \u001b[0;32mif\u001b[0m \u001b[0mdata\u001b[0m \u001b[0;32mis\u001b[0m \u001b[0;32mNone\u001b[0m\u001b[0;34m:\u001b[0m\u001b[0;34m\u001b[0m\u001b[0;34m\u001b[0m\u001b[0m\n\u001b[0;32m-> 1589\u001b[0;31m             \u001b[0;32mreturn\u001b[0m \u001b[0mfunc\u001b[0m\u001b[0;34m(\u001b[0m\u001b[0max\u001b[0m\u001b[0;34m,\u001b[0m \u001b[0;34m*\u001b[0m\u001b[0mmap\u001b[0m\u001b[0;34m(\u001b[0m\u001b[0msanitize_sequence\u001b[0m\u001b[0;34m,\u001b[0m \u001b[0margs\u001b[0m\u001b[0;34m)\u001b[0m\u001b[0;34m,\u001b[0m \u001b[0;34m**\u001b[0m\u001b[0mkwargs\u001b[0m\u001b[0;34m)\u001b[0m\u001b[0;34m\u001b[0m\u001b[0;34m\u001b[0m\u001b[0m\n\u001b[0m\u001b[1;32m   1590\u001b[0m \u001b[0;34m\u001b[0m\u001b[0m\n\u001b[1;32m   1591\u001b[0m         \u001b[0mbound\u001b[0m \u001b[0;34m=\u001b[0m \u001b[0mnew_sig\u001b[0m\u001b[0;34m.\u001b[0m\u001b[0mbind\u001b[0m\u001b[0;34m(\u001b[0m\u001b[0max\u001b[0m\u001b[0;34m,\u001b[0m \u001b[0;34m*\u001b[0m\u001b[0margs\u001b[0m\u001b[0;34m,\u001b[0m \u001b[0;34m**\u001b[0m\u001b[0mkwargs\u001b[0m\u001b[0;34m)\u001b[0m\u001b[0;34m\u001b[0m\u001b[0;34m\u001b[0m\u001b[0m\n",
      "\u001b[0;32m/usr/local/anaconda3/lib/python3.7/site-packages/matplotlib/axes/_axes.py\u001b[0m in \u001b[0;36mhist\u001b[0;34m(self, x, bins, range, density, weights, cumulative, bottom, histtype, align, orientation, rwidth, log, color, label, stacked, normed, **kwargs)\u001b[0m\n\u001b[1;32m   6705\u001b[0m                     \u001b[0;34m\"color kwarg must have one color per data set. %d data \"\u001b[0m\u001b[0;34m\u001b[0m\u001b[0;34m\u001b[0m\u001b[0m\n\u001b[1;32m   6706\u001b[0m                     \"sets and %d colors were provided\" % (nx, len(color)))\n\u001b[0;32m-> 6707\u001b[0;31m                 \u001b[0;32mraise\u001b[0m \u001b[0mValueError\u001b[0m\u001b[0;34m(\u001b[0m\u001b[0merror_message\u001b[0m\u001b[0;34m)\u001b[0m\u001b[0;34m\u001b[0m\u001b[0;34m\u001b[0m\u001b[0m\n\u001b[0m\u001b[1;32m   6708\u001b[0m \u001b[0;34m\u001b[0m\u001b[0m\n\u001b[1;32m   6709\u001b[0m         \u001b[0mhist_kwargs\u001b[0m \u001b[0;34m=\u001b[0m \u001b[0mdict\u001b[0m\u001b[0;34m(\u001b[0m\u001b[0;34m)\u001b[0m\u001b[0;34m\u001b[0m\u001b[0;34m\u001b[0m\u001b[0m\n",
      "\u001b[0;31mValueError\u001b[0m: color kwarg must have one color per data set. 1685 data sets and 1 colors were provided"
     ]
    },
    {
     "data": {
      "image/png": "[encoded data removed]",
      "text/plain": [
       "<Figure size 720x720 with 20 Axes>"
      ]
     },
     "metadata": {
      "needs_background": "light"
     },
     "output_type": "display_data"
    }
   ],
   "source": [
    "sns.pairplot(telco)"
   ]
  },
  {
   "cell_type": "markdown",
   "metadata": {},
   "source": [
    "#### Clean the Data"
   ]
  },
  {
   "cell_type": "markdown",
   "metadata": {},
   "source": [
    "Multiple Lines variable is categorical with Yes, No, or No phone service as values. We want to change the values such that:\n",
    "- Yes = 2\n",
    "- No = 1\n",
    "- No phone service = 0\n"
   ]
  },
  {
   "cell_type": "code",
   "execution_count": 46,
   "metadata": {},
   "outputs": [
    {
     "data": {
      "text/plain": [
       "159"
      ]
     },
     "execution_count": 46,
     "metadata": {},
     "output_type": "execute_result"
    }
   ],
   "source": [
    "telco.multiple_lines = telco.multiple_lines.str.replace(\"Yes\",\"2\")\n",
    "telco.multiple_lines = telco.multiple_lines.str.replace(\"No\",\"1\")\n",
    "telco.multiple_lines = telco.multiple_lines.str.replace(\"1 phone service\",\"0\")"
   ]
  },
  {
   "cell_type": "code",
   "execution_count": 49,
   "metadata": {},
   "outputs": [
    {
     "name": "stdout",
     "output_type": "stream",
     "text": [
      "<class 'pandas.core.frame.DataFrame'>\n",
      "Int64Index: 1685 entries, 0 to 1684\n",
      "Data columns (total 5 columns):\n",
      "customer_id        1685 non-null object\n",
      "monthly_charges    1685 non-null float64\n",
      "tenure             1685 non-null int64\n",
      "multiple_lines     1685 non-null object\n",
      "total_charges      1685 non-null float64\n",
      "dtypes: float64(2), int64(1), object(2)\n",
      "memory usage: 79.0+ KB\n"
     ]
    }
   ],
   "source": [
    "telco.multiple_lines.astype(int)\n",
    "telco.info()"
   ]
  },
  {
   "cell_type": "markdown",
   "metadata": {},
   "source": [
    "#### Split Data to test and train, x and y"
   ]
  },
  {
   "cell_type": "code",
   "execution_count": 121,
   "metadata": {},
   "outputs": [],
   "source": [
    "X = telco[[\"monthly_charges\", \"tenure\", \"multiple_lines\"]]\n",
    "y = telco.total_charges\n",
    "\n",
    "X_train, X_test, y_train, y_test = split_my_data(X, y, 0.8)"
   ]
  },
  {
   "cell_type": "markdown",
   "metadata": {},
   "source": [
    "#### Scale X variables"
   ]
  },
  {
   "cell_type": "markdown",
   "metadata": {},
   "source": [
    "I'm using Standard Scaler to scale the independent variables, monthly charges and tenure, which are in different scales, and units. Monthly charges are measured in dollars and tenure is measured in years."
   ]
  },
  {
   "cell_type": "code",
   "execution_count": 122,
   "metadata": {},
   "outputs": [],
   "source": [
    "X_train, X_test, scaler = standard_scaler(X_train, X_test)"
   ]
  },
  {
   "cell_type": "code",
   "execution_count": 123,
   "metadata": {},
   "outputs": [
    {
     "data": {
      "text/html": [
       "<div>\n",
       "<style scoped>\n",
       "    .dataframe tbody tr th:only-of-type {\n",
       "        vertical-align: middle;\n",
       "    }\n",
       "\n",
       "    .dataframe tbody tr th {\n",
       "        vertical-align: top;\n",
       "    }\n",
       "\n",
       "    .dataframe thead th {\n",
       "        text-align: right;\n",
       "    }\n",
       "</style>\n",
       "<table border=\"1\" class=\"dataframe\">\n",
       "  <thead>\n",
       "    <tr style=\"text-align: right;\">\n",
       "      <th></th>\n",
       "      <th>monthly_charges</th>\n",
       "      <th>tenure</th>\n",
       "      <th>multiple_lines</th>\n",
       "    </tr>\n",
       "  </thead>\n",
       "  <tbody>\n",
       "    <tr>\n",
       "      <th>304</th>\n",
       "      <td>1.431268</td>\n",
       "      <td>0.432473</td>\n",
       "      <td>0.870194</td>\n",
       "    </tr>\n",
       "    <tr>\n",
       "      <th>450</th>\n",
       "      <td>0.899592</td>\n",
       "      <td>0.659886</td>\n",
       "      <td>0.870194</td>\n",
       "    </tr>\n",
       "    <tr>\n",
       "      <th>909</th>\n",
       "      <td>0.036163</td>\n",
       "      <td>0.603032</td>\n",
       "      <td>-0.637546</td>\n",
       "    </tr>\n",
       "    <tr>\n",
       "      <th>1411</th>\n",
       "      <td>-1.054714</td>\n",
       "      <td>0.205060</td>\n",
       "      <td>0.870194</td>\n",
       "    </tr>\n",
       "    <tr>\n",
       "      <th>1547</th>\n",
       "      <td>-1.208276</td>\n",
       "      <td>0.489326</td>\n",
       "      <td>-0.637546</td>\n",
       "    </tr>\n",
       "    <tr>\n",
       "      <th>103</th>\n",
       "      <td>-1.195238</td>\n",
       "      <td>-1.045712</td>\n",
       "      <td>-0.637546</td>\n",
       "    </tr>\n",
       "    <tr>\n",
       "      <th>167</th>\n",
       "      <td>1.341448</td>\n",
       "      <td>0.830445</td>\n",
       "      <td>0.870194</td>\n",
       "    </tr>\n",
       "    <tr>\n",
       "      <th>1463</th>\n",
       "      <td>-1.202482</td>\n",
       "      <td>0.773592</td>\n",
       "      <td>-0.637546</td>\n",
       "    </tr>\n",
       "    <tr>\n",
       "      <th>1192</th>\n",
       "      <td>-0.040619</td>\n",
       "      <td>-0.818299</td>\n",
       "      <td>-0.637546</td>\n",
       "    </tr>\n",
       "    <tr>\n",
       "      <th>1441</th>\n",
       "      <td>-1.073547</td>\n",
       "      <td>0.034500</td>\n",
       "      <td>0.870194</td>\n",
       "    </tr>\n",
       "    <tr>\n",
       "      <th>807</th>\n",
       "      <td>-1.037329</td>\n",
       "      <td>-2.182777</td>\n",
       "      <td>0.870194</td>\n",
       "    </tr>\n",
       "    <tr>\n",
       "      <th>611</th>\n",
       "      <td>0.621441</td>\n",
       "      <td>0.603032</td>\n",
       "      <td>-0.637546</td>\n",
       "    </tr>\n",
       "    <tr>\n",
       "      <th>229</th>\n",
       "      <td>1.406640</td>\n",
       "      <td>0.659886</td>\n",
       "      <td>0.870194</td>\n",
       "    </tr>\n",
       "    <tr>\n",
       "      <th>332</th>\n",
       "      <td>1.234244</td>\n",
       "      <td>0.546179</td>\n",
       "      <td>0.870194</td>\n",
       "    </tr>\n",
       "    <tr>\n",
       "      <th>778</th>\n",
       "      <td>-1.208276</td>\n",
       "      <td>-1.898510</td>\n",
       "      <td>-0.637546</td>\n",
       "    </tr>\n",
       "    <tr>\n",
       "      <th>184</th>\n",
       "      <td>1.335653</td>\n",
       "      <td>0.830445</td>\n",
       "      <td>0.870194</td>\n",
       "    </tr>\n",
       "    <tr>\n",
       "      <th>209</th>\n",
       "      <td>1.260320</td>\n",
       "      <td>0.830445</td>\n",
       "      <td>0.870194</td>\n",
       "    </tr>\n",
       "    <tr>\n",
       "      <th>646</th>\n",
       "      <td>0.118739</td>\n",
       "      <td>-2.808162</td>\n",
       "      <td>-0.637546</td>\n",
       "    </tr>\n",
       "    <tr>\n",
       "      <th>1584</th>\n",
       "      <td>-1.203930</td>\n",
       "      <td>0.091353</td>\n",
       "      <td>-0.637546</td>\n",
       "    </tr>\n",
       "    <tr>\n",
       "      <th>343</th>\n",
       "      <td>1.053155</td>\n",
       "      <td>0.830445</td>\n",
       "      <td>0.870194</td>\n",
       "    </tr>\n",
       "    <tr>\n",
       "      <th>953</th>\n",
       "      <td>0.031817</td>\n",
       "      <td>0.489326</td>\n",
       "      <td>-2.145285</td>\n",
       "    </tr>\n",
       "    <tr>\n",
       "      <th>1193</th>\n",
       "      <td>-0.744690</td>\n",
       "      <td>0.546179</td>\n",
       "      <td>-2.145285</td>\n",
       "    </tr>\n",
       "    <tr>\n",
       "      <th>582</th>\n",
       "      <td>1.108206</td>\n",
       "      <td>0.148206</td>\n",
       "      <td>-0.637546</td>\n",
       "    </tr>\n",
       "    <tr>\n",
       "      <th>1117</th>\n",
       "      <td>0.137572</td>\n",
       "      <td>-0.477179</td>\n",
       "      <td>0.870194</td>\n",
       "    </tr>\n",
       "    <tr>\n",
       "      <th>381</th>\n",
       "      <td>1.354486</td>\n",
       "      <td>0.261913</td>\n",
       "      <td>-0.637546</td>\n",
       "    </tr>\n",
       "    <tr>\n",
       "      <th>206</th>\n",
       "      <td>1.332756</td>\n",
       "      <td>0.830445</td>\n",
       "      <td>0.870194</td>\n",
       "    </tr>\n",
       "    <tr>\n",
       "      <th>1226</th>\n",
       "      <td>-1.190892</td>\n",
       "      <td>-2.580749</td>\n",
       "      <td>-0.637546</td>\n",
       "    </tr>\n",
       "    <tr>\n",
       "      <th>50</th>\n",
       "      <td>-1.201033</td>\n",
       "      <td>-0.647739</td>\n",
       "      <td>-0.637546</td>\n",
       "    </tr>\n",
       "    <tr>\n",
       "      <th>1676</th>\n",
       "      <td>-1.180751</td>\n",
       "      <td>-0.363473</td>\n",
       "      <td>-0.637546</td>\n",
       "    </tr>\n",
       "    <tr>\n",
       "      <th>28</th>\n",
       "      <td>-1.222764</td>\n",
       "      <td>-0.647739</td>\n",
       "      <td>-0.637546</td>\n",
       "    </tr>\n",
       "    <tr>\n",
       "      <th>...</th>\n",
       "      <td>...</td>\n",
       "      <td>...</td>\n",
       "      <td>...</td>\n",
       "    </tr>\n",
       "    <tr>\n",
       "      <th>316</th>\n",
       "      <td>1.179193</td>\n",
       "      <td>0.603032</td>\n",
       "      <td>0.870194</td>\n",
       "    </tr>\n",
       "    <tr>\n",
       "      <th>221</th>\n",
       "      <td>1.238590</td>\n",
       "      <td>0.830445</td>\n",
       "      <td>0.870194</td>\n",
       "    </tr>\n",
       "    <tr>\n",
       "      <th>171</th>\n",
       "      <td>1.502254</td>\n",
       "      <td>0.659886</td>\n",
       "      <td>0.870194</td>\n",
       "    </tr>\n",
       "    <tr>\n",
       "      <th>48</th>\n",
       "      <td>-1.218417</td>\n",
       "      <td>-0.875152</td>\n",
       "      <td>-0.637546</td>\n",
       "    </tr>\n",
       "    <tr>\n",
       "      <th>320</th>\n",
       "      <td>1.380563</td>\n",
       "      <td>0.432473</td>\n",
       "      <td>0.870194</td>\n",
       "    </tr>\n",
       "    <tr>\n",
       "      <th>1376</th>\n",
       "      <td>-1.174956</td>\n",
       "      <td>-2.808162</td>\n",
       "      <td>-0.637546</td>\n",
       "    </tr>\n",
       "    <tr>\n",
       "      <th>427</th>\n",
       "      <td>0.941605</td>\n",
       "      <td>0.716739</td>\n",
       "      <td>0.870194</td>\n",
       "    </tr>\n",
       "    <tr>\n",
       "      <th>1671</th>\n",
       "      <td>-1.060508</td>\n",
       "      <td>-0.988858</td>\n",
       "      <td>0.870194</td>\n",
       "    </tr>\n",
       "    <tr>\n",
       "      <th>1167</th>\n",
       "      <td>0.147713</td>\n",
       "      <td>-0.875152</td>\n",
       "      <td>-0.637546</td>\n",
       "    </tr>\n",
       "    <tr>\n",
       "      <th>630</th>\n",
       "      <td>0.544659</td>\n",
       "      <td>0.830445</td>\n",
       "      <td>0.870194</td>\n",
       "    </tr>\n",
       "    <tr>\n",
       "      <th>1566</th>\n",
       "      <td>-1.180751</td>\n",
       "      <td>0.261913</td>\n",
       "      <td>-0.637546</td>\n",
       "    </tr>\n",
       "    <tr>\n",
       "      <th>1662</th>\n",
       "      <td>-1.198136</td>\n",
       "      <td>-0.534032</td>\n",
       "      <td>-0.637546</td>\n",
       "    </tr>\n",
       "    <tr>\n",
       "      <th>328</th>\n",
       "      <td>1.089373</td>\n",
       "      <td>0.773592</td>\n",
       "      <td>0.870194</td>\n",
       "    </tr>\n",
       "    <tr>\n",
       "      <th>1478</th>\n",
       "      <td>-1.215520</td>\n",
       "      <td>0.773592</td>\n",
       "      <td>-0.637546</td>\n",
       "    </tr>\n",
       "    <tr>\n",
       "      <th>1175</th>\n",
       "      <td>-1.083688</td>\n",
       "      <td>-2.580749</td>\n",
       "      <td>0.870194</td>\n",
       "    </tr>\n",
       "    <tr>\n",
       "      <th>431</th>\n",
       "      <td>0.824259</td>\n",
       "      <td>0.830445</td>\n",
       "      <td>0.870194</td>\n",
       "    </tr>\n",
       "    <tr>\n",
       "      <th>994</th>\n",
       "      <td>0.518582</td>\n",
       "      <td>-0.477179</td>\n",
       "      <td>0.870194</td>\n",
       "    </tr>\n",
       "    <tr>\n",
       "      <th>702</th>\n",
       "      <td>0.577979</td>\n",
       "      <td>0.546179</td>\n",
       "      <td>-0.637546</td>\n",
       "    </tr>\n",
       "    <tr>\n",
       "      <th>854</th>\n",
       "      <td>-1.174956</td>\n",
       "      <td>-2.182777</td>\n",
       "      <td>-0.637546</td>\n",
       "    </tr>\n",
       "    <tr>\n",
       "      <th>1233</th>\n",
       "      <td>-0.604166</td>\n",
       "      <td>-2.921869</td>\n",
       "      <td>-2.145285</td>\n",
       "    </tr>\n",
       "    <tr>\n",
       "      <th>817</th>\n",
       "      <td>0.120188</td>\n",
       "      <td>0.830445</td>\n",
       "      <td>-2.145285</td>\n",
       "    </tr>\n",
       "    <tr>\n",
       "      <th>1253</th>\n",
       "      <td>-1.034432</td>\n",
       "      <td>0.830445</td>\n",
       "      <td>0.870194</td>\n",
       "    </tr>\n",
       "    <tr>\n",
       "      <th>543</th>\n",
       "      <td>-1.077893</td>\n",
       "      <td>-1.898510</td>\n",
       "      <td>0.870194</td>\n",
       "    </tr>\n",
       "    <tr>\n",
       "      <th>1573</th>\n",
       "      <td>-1.215520</td>\n",
       "      <td>0.375619</td>\n",
       "      <td>-0.637546</td>\n",
       "    </tr>\n",
       "    <tr>\n",
       "      <th>5</th>\n",
       "      <td>-1.195238</td>\n",
       "      <td>-0.477179</td>\n",
       "      <td>-0.637546</td>\n",
       "    </tr>\n",
       "    <tr>\n",
       "      <th>1632</th>\n",
       "      <td>-1.187995</td>\n",
       "      <td>-0.192913</td>\n",
       "      <td>-0.637546</td>\n",
       "    </tr>\n",
       "    <tr>\n",
       "      <th>457</th>\n",
       "      <td>1.309576</td>\n",
       "      <td>0.205060</td>\n",
       "      <td>0.870194</td>\n",
       "    </tr>\n",
       "    <tr>\n",
       "      <th>1161</th>\n",
       "      <td>-0.662114</td>\n",
       "      <td>-2.865015</td>\n",
       "      <td>-2.145285</td>\n",
       "    </tr>\n",
       "    <tr>\n",
       "      <th>1074</th>\n",
       "      <td>0.398340</td>\n",
       "      <td>-0.704592</td>\n",
       "      <td>0.870194</td>\n",
       "    </tr>\n",
       "    <tr>\n",
       "      <th>1311</th>\n",
       "      <td>-1.022842</td>\n",
       "      <td>0.546179</td>\n",
       "      <td>0.870194</td>\n",
       "    </tr>\n",
       "  </tbody>\n",
       "</table>\n",
       "<p>337 rows × 3 columns</p>\n",
       "</div>"
      ],
      "text/plain": [
       "      monthly_charges    tenure  multiple_lines\n",
       "304          1.431268  0.432473        0.870194\n",
       "450          0.899592  0.659886        0.870194\n",
       "909          0.036163  0.603032       -0.637546\n",
       "1411        -1.054714  0.205060        0.870194\n",
       "1547        -1.208276  0.489326       -0.637546\n",
       "103         -1.195238 -1.045712       -0.637546\n",
       "167          1.341448  0.830445        0.870194\n",
       "1463        -1.202482  0.773592       -0.637546\n",
       "1192        -0.040619 -0.818299       -0.637546\n",
       "1441        -1.073547  0.034500        0.870194\n",
       "807         -1.037329 -2.182777        0.870194\n",
       "611          0.621441  0.603032       -0.637546\n",
       "229          1.406640  0.659886        0.870194\n",
       "332          1.234244  0.546179        0.870194\n",
       "778         -1.208276 -1.898510       -0.637546\n",
       "184          1.335653  0.830445        0.870194\n",
       "209          1.260320  0.830445        0.870194\n",
       "646          0.118739 -2.808162       -0.637546\n",
       "1584        -1.203930  0.091353       -0.637546\n",
       "343          1.053155  0.830445        0.870194\n",
       "953          0.031817  0.489326       -2.145285\n",
       "1193        -0.744690  0.546179       -2.145285\n",
       "582          1.108206  0.148206       -0.637546\n",
       "1117         0.137572 -0.477179        0.870194\n",
       "381          1.354486  0.261913       -0.637546\n",
       "206          1.332756  0.830445        0.870194\n",
       "1226        -1.190892 -2.580749       -0.637546\n",
       "50          -1.201033 -0.647739       -0.637546\n",
       "1676        -1.180751 -0.363473       -0.637546\n",
       "28          -1.222764 -0.647739       -0.637546\n",
       "...               ...       ...             ...\n",
       "316          1.179193  0.603032        0.870194\n",
       "221          1.238590  0.830445        0.870194\n",
       "171          1.502254  0.659886        0.870194\n",
       "48          -1.218417 -0.875152       -0.637546\n",
       "320          1.380563  0.432473        0.870194\n",
       "1376        -1.174956 -2.808162       -0.637546\n",
       "427          0.941605  0.716739        0.870194\n",
       "1671        -1.060508 -0.988858        0.870194\n",
       "1167         0.147713 -0.875152       -0.637546\n",
       "630          0.544659  0.830445        0.870194\n",
       "1566        -1.180751  0.261913       -0.637546\n",
       "1662        -1.198136 -0.534032       -0.637546\n",
       "328          1.089373  0.773592        0.870194\n",
       "1478        -1.215520  0.773592       -0.637546\n",
       "1175        -1.083688 -2.580749        0.870194\n",
       "431          0.824259  0.830445        0.870194\n",
       "994          0.518582 -0.477179        0.870194\n",
       "702          0.577979  0.546179       -0.637546\n",
       "854         -1.174956 -2.182777       -0.637546\n",
       "1233        -0.604166 -2.921869       -2.145285\n",
       "817          0.120188  0.830445       -2.145285\n",
       "1253        -1.034432  0.830445        0.870194\n",
       "543         -1.077893 -1.898510        0.870194\n",
       "1573        -1.215520  0.375619       -0.637546\n",
       "5           -1.195238 -0.477179       -0.637546\n",
       "1632        -1.187995 -0.192913       -0.637546\n",
       "457          1.309576  0.205060        0.870194\n",
       "1161        -0.662114 -2.865015       -2.145285\n",
       "1074         0.398340 -0.704592        0.870194\n",
       "1311        -1.022842  0.546179        0.870194\n",
       "\n",
       "[337 rows x 3 columns]"
      ]
     },
     "execution_count": 123,
     "metadata": {},
     "output_type": "execute_result"
    }
   ],
   "source": [
    "X_train\n",
    "X_test"
   ]
  },
  {
   "cell_type": "markdown",
   "metadata": {},
   "source": [
    "#### Feature Engineering"
   ]
  },
  {
   "cell_type": "markdown",
   "metadata": {},
   "source": [
    "Correlation threshold to see which variables are worth pursuing.\n",
    "\n",
    "_**Note:** I re-combined the train partitions of scaled X with y again because I split the data into 4 data frames in the split-train-test phase. However, I need them again to see correlations between X and y, only this time I want to run JUST the train data._"
   ]
  },
  {
   "cell_type": "code",
   "execution_count": 124,
   "metadata": {},
   "outputs": [
    {
     "data": {
      "text/html": [
       "<div>\n",
       "<style scoped>\n",
       "    .dataframe tbody tr th:only-of-type {\n",
       "        vertical-align: middle;\n",
       "    }\n",
       "\n",
       "    .dataframe tbody tr th {\n",
       "        vertical-align: top;\n",
       "    }\n",
       "\n",
       "    .dataframe thead th {\n",
       "        text-align: right;\n",
       "    }\n",
       "</style>\n",
       "<table border=\"1\" class=\"dataframe\">\n",
       "  <thead>\n",
       "    <tr style=\"text-align: right;\">\n",
       "      <th></th>\n",
       "      <th>monthly_charges</th>\n",
       "      <th>tenure</th>\n",
       "      <th>multiple_lines</th>\n",
       "      <th>total_charges</th>\n",
       "    </tr>\n",
       "  </thead>\n",
       "  <tbody>\n",
       "    <tr>\n",
       "      <th>119</th>\n",
       "      <td>1.506600</td>\n",
       "      <td>0.830445</td>\n",
       "      <td>0.870194</td>\n",
       "      <td>8164.10</td>\n",
       "    </tr>\n",
       "    <tr>\n",
       "      <th>1414</th>\n",
       "      <td>-1.173508</td>\n",
       "      <td>0.773592</td>\n",
       "      <td>-0.637546</td>\n",
       "      <td>1493.20</td>\n",
       "    </tr>\n",
       "    <tr>\n",
       "      <th>384</th>\n",
       "      <td>1.274807</td>\n",
       "      <td>0.375619</td>\n",
       "      <td>0.870194</td>\n",
       "      <td>6794.75</td>\n",
       "    </tr>\n",
       "    <tr>\n",
       "      <th>1131</th>\n",
       "      <td>-0.044965</td>\n",
       "      <td>-0.306619</td>\n",
       "      <td>0.870194</td>\n",
       "      <td>3103.25</td>\n",
       "    </tr>\n",
       "    <tr>\n",
       "      <th>1494</th>\n",
       "      <td>-1.032983</td>\n",
       "      <td>-0.306619</td>\n",
       "      <td>0.870194</td>\n",
       "      <td>1345.85</td>\n",
       "    </tr>\n",
       "  </tbody>\n",
       "</table>\n",
       "</div>"
      ],
      "text/plain": [
       "      monthly_charges    tenure  multiple_lines  total_charges\n",
       "119          1.506600  0.830445        0.870194        8164.10\n",
       "1414        -1.173508  0.773592       -0.637546        1493.20\n",
       "384          1.274807  0.375619        0.870194        6794.75\n",
       "1131        -0.044965 -0.306619        0.870194        3103.25\n",
       "1494        -1.032983 -0.306619        0.870194        1345.85"
      ]
     },
     "execution_count": 124,
     "metadata": {},
     "output_type": "execute_result"
    }
   ],
   "source": [
    "train_combined = X_train.copy()\n",
    "train_combined[\"total_charges\"] = y_train\n",
    "train_combined.head()"
   ]
  },
  {
   "cell_type": "code",
   "execution_count": 105,
   "metadata": {},
   "outputs": [
    {
     "data": {
      "text/plain": [
       "<matplotlib.axes._subplots.AxesSubplot at 0x1a17251ba8>"
      ]
     },
     "execution_count": 105,
     "metadata": {},
     "output_type": "execute_result"
    },
    {
     "data": {
      "image/png": "[encoded data removed]",
      "text/plain": [
       "<Figure size 432x360 with 2 Axes>"
      ]
     },
     "metadata": {
      "needs_background": "light"
     },
     "output_type": "display_data"
    }
   ],
   "source": [
    "plt.figure(figsize=(6,5))\n",
    "correlation = train_combined.corr()\n",
    "sns.heatmap(correlation, annot=True, cmap=plt.cm.Blues)"
   ]
  },
  {
   "cell_type": "markdown",
   "metadata": {},
   "source": [
    "**Takeaway:**  \n",
    "With the R values below, we will explore the two variables with highest correlation with the Total Charges, that is, Monthly Charges and Tenure.\n",
    "\n",
    "Pearsons R values  \n",
    "- total_charges | monthly_charges = 0.94  \n",
    "- total_charges | tenure = 0.63\n",
    "- total_charges | multiple_lines = 0.41"
   ]
  },
  {
   "cell_type": "markdown",
   "metadata": {},
   "source": [
    "### MODEL"
   ]
  },
  {
   "cell_type": "code",
   "execution_count": 129,
   "metadata": {},
   "outputs": [
    {
     "data": {
      "text/html": [
       "<div>\n",
       "<style scoped>\n",
       "    .dataframe tbody tr th:only-of-type {\n",
       "        vertical-align: middle;\n",
       "    }\n",
       "\n",
       "    .dataframe tbody tr th {\n",
       "        vertical-align: top;\n",
       "    }\n",
       "\n",
       "    .dataframe thead th {\n",
       "        text-align: right;\n",
       "    }\n",
       "</style>\n",
       "<table border=\"1\" class=\"dataframe\">\n",
       "  <thead>\n",
       "    <tr style=\"text-align: right;\">\n",
       "      <th></th>\n",
       "      <th>monthly_charges</th>\n",
       "      <th>tenure</th>\n",
       "      <th>multiple_lines</th>\n",
       "    </tr>\n",
       "  </thead>\n",
       "  <tbody>\n",
       "    <tr>\n",
       "      <th>119</th>\n",
       "      <td>1.506600</td>\n",
       "      <td>0.830445</td>\n",
       "      <td>0.870194</td>\n",
       "    </tr>\n",
       "    <tr>\n",
       "      <th>1414</th>\n",
       "      <td>-1.173508</td>\n",
       "      <td>0.773592</td>\n",
       "      <td>-0.637546</td>\n",
       "    </tr>\n",
       "    <tr>\n",
       "      <th>384</th>\n",
       "      <td>1.274807</td>\n",
       "      <td>0.375619</td>\n",
       "      <td>0.870194</td>\n",
       "    </tr>\n",
       "    <tr>\n",
       "      <th>1131</th>\n",
       "      <td>-0.044965</td>\n",
       "      <td>-0.306619</td>\n",
       "      <td>0.870194</td>\n",
       "    </tr>\n",
       "    <tr>\n",
       "      <th>1494</th>\n",
       "      <td>-1.032983</td>\n",
       "      <td>-0.306619</td>\n",
       "      <td>0.870194</td>\n",
       "    </tr>\n",
       "  </tbody>\n",
       "</table>\n",
       "</div>"
      ],
      "text/plain": [
       "      monthly_charges    tenure  multiple_lines\n",
       "119          1.506600  0.830445        0.870194\n",
       "1414        -1.173508  0.773592       -0.637546\n",
       "384          1.274807  0.375619        0.870194\n",
       "1131        -0.044965 -0.306619        0.870194\n",
       "1494        -1.032983 -0.306619        0.870194"
      ]
     },
     "execution_count": 129,
     "metadata": {},
     "output_type": "execute_result"
    }
   ],
   "source": [
    "X_train.head()\n",
    "# y_train.head()"
   ]
  },
  {
   "cell_type": "code",
   "execution_count": 131,
   "metadata": {},
   "outputs": [],
   "source": [
    "lmodel = LinearRegression().fit(X_train[[\"monthly_charges\",\"tenure\"]],y_train)\n",
    "intercept = lmodel.intercept_\n",
    "coefficients = lmodel.coef_"
   ]
  },
  {
   "cell_type": "code",
   "execution_count": 127,
   "metadata": {},
   "outputs": [
    {
     "name": "stdout",
     "output_type": "stream",
     "text": [
      "Train data's intercept:  3770.249925816024\n",
      "Train data's coefficients:  [2109.75874065  745.57518468]\n"
     ]
    }
   ],
   "source": [
    "print(\"Train data's intercept: \", intercept)\n",
    "print(\"Train data's coefficients: \", coefficients)"
   ]
  },
  {
   "cell_type": "code",
   "execution_count": null,
   "metadata": {},
   "outputs": [],
   "source": []
  }
 ],
 "metadata": {
  "kernelspec": {
   "display_name": "Python 3",
   "language": "python",
   "name": "python3"
  },
  "language_info": {
   "codemirror_mode": {
    "name": "ipython",
    "version": 3
   },
   "file_extension": ".py",
   "mimetype": "text/x-python",
   "name": "python",
   "nbconvert_exporter": "python",
   "pygments_lexer": "ipython3",
   "version": "3.7.3"
  }
 },
 "nbformat": 4,
 "nbformat_minor": 2
}
