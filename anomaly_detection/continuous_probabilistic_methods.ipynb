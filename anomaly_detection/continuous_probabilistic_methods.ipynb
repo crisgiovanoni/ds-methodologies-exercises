{
 "cells": [
  {
   "cell_type": "code",
   "execution_count": 19,
   "metadata": {},
   "outputs": [],
   "source": [
    "import pandas as pd\n",
    "import numpy as np"
   ]
  },
  {
   "cell_type": "code",
   "execution_count": 20,
   "metadata": {},
   "outputs": [],
   "source": [
    "lemonade = pd.read_csv(\"lemonade.csv\")"
   ]
  },
  {
   "cell_type": "markdown",
   "metadata": {},
   "source": [
    "Define a function named get_lower_and_upper_bounds that has two arguments. The first argument is a pandas Series. The second argument is the multiplier, which should have a default argument of 1.5."
   ]
  },
  {
   "cell_type": "code",
   "execution_count": 31,
   "metadata": {},
   "outputs": [],
   "source": [
    "def get_lower_and_upper_bounds(series, multiplier=1.5):\n",
    "    q1 = series.quantile(.25)\n",
    "    q3 = series.quantile(.75)\n",
    "    iqr = q3-q1\n",
    "    \n",
    "    lower_fence = q1 - (multiplier*iqr)\n",
    "    upper_fence = q3 + (multiplier*iqr)\n",
    "    return lower_fence, upper_fence"
   ]
  },
  {
   "cell_type": "markdown",
   "metadata": {},
   "source": [
    "_Use the IQR Range Rule and the upper and lower bounds to identify the lower outliers of each column of lemonade.csv, using the multiplier of 1.5. Do these lower outliers make sense?Which outliers should be kept?_"
   ]
  },
  {
   "cell_type": "code",
   "execution_count": 32,
   "metadata": {},
   "outputs": [],
   "source": [
    "temp_lf, temp_uf = get_lower_and_upper_bounds(lemonade[\"Temperature\"])\n",
    "rainfall_lf, rainfall_uf = get_lower_and_upper_bounds(lemonade[\"Rainfall\"])\n",
    "flyers_lf, flyers_uf = get_lower_and_upper_bounds(lemonade[\"Flyers\"])\n",
    "price_lf, price_uf = get_lower_and_upper_bounds(lemonade[\"Price\"])\n",
    "sales_lf, sales_uf = get_lower_and_upper_bounds(lemonade[\"Sales\"])"
   ]
  },
  {
   "cell_type": "code",
   "execution_count": 33,
   "metadata": {},
   "outputs": [
    {
     "name": "stdout",
     "output_type": "stream",
     "text": [
      "\n",
      "Temperature Lower Fence: 16.700000000000003\n",
      "Temperature Upper Fence: 104.7\n",
      "\n",
      "Rainfall Lower Fence: 0.26\n",
      "Rainfall Upper Fence: 1.3\n",
      "\n",
      "Flyers Lower Fence: 4.0\n",
      "Flyers Upper Fence: 76.0\n",
      "\n",
      "Price Lower Fence: 0.5\n",
      "Price Upper Fence: 0.5\n",
      "\n",
      "Sales Lower Fence: 5.0\n",
      "Sales Upper Fence: 45.0\n",
      "\n"
     ]
    }
   ],
   "source": [
    "print(f\"\"\"\n",
    "Temperature Lower Fence: {temp_lf}\n",
    "Temperature Upper Fence: {temp_uf}\n",
    "\n",
    "Rainfall Lower Fence: {rainfall_lf}\n",
    "Rainfall Upper Fence: {rainfall_uf}\n",
    "\n",
    "Flyers Lower Fence: {flyers_lf}\n",
    "Flyers Upper Fence: {flyers_uf}\n",
    "\n",
    "Price Lower Fence: {price_lf}\n",
    "Price Upper Fence: {price_uf}\n",
    "\n",
    "Sales Lower Fence: {sales_lf}\n",
    "Sales Upper Fence: {sales_uf}\n",
    "\"\"\")"
   ]
  },
  {
   "cell_type": "markdown",
   "metadata": {},
   "source": [
    "Price have the the same lower and upper bound which leads me to concluding that the price have little to no variation. These outliers should be kept."
   ]
  },
  {
   "cell_type": "markdown",
   "metadata": {},
   "source": [
    "_Using the multiplier of 3, IQR Range Rule, and the lower and upper bounds, identify the outliers below the lower bound in each colum of lemonade.csv. Do these lower outliers make sense?Which outliers should be kept?_"
   ]
  },
  {
   "cell_type": "code",
   "execution_count": 36,
   "metadata": {},
   "outputs": [],
   "source": [
    "temp_lf, temp_uf = get_lower_and_upper_bounds(lemonade[\"Temperature\"],3)\n",
    "rainfall_lf, rainfall_uf = get_lower_and_upper_bounds(lemonade[\"Rainfall\"],3)\n",
    "flyers_lf, flyers_uf = get_lower_and_upper_bounds(lemonade[\"Flyers\"],3)\n",
    "price_lf, price_uf = get_lower_and_upper_bounds(lemonade[\"Price\"],3)\n",
    "sales_lf, sales_uf = get_lower_and_upper_bounds(lemonade[\"Sales\"],3)"
   ]
  },
  {
   "cell_type": "code",
   "execution_count": 37,
   "metadata": {},
   "outputs": [
    {
     "name": "stdout",
     "output_type": "stream",
     "text": [
      "\n",
      "Temperature Lower Fence: -16.299999999999997\n",
      "Temperature Upper Fence: 137.7\n",
      "\n",
      "Rainfall Lower Fence: -0.13\n",
      "Rainfall Upper Fence: 1.69\n",
      "\n",
      "Flyers Lower Fence: -23.0\n",
      "Flyers Upper Fence: 103.0\n",
      "\n",
      "Price Lower Fence: 0.5\n",
      "Price Upper Fence: 0.5\n",
      "\n",
      "Sales Lower Fence: -10.0\n",
      "Sales Upper Fence: 60.0\n",
      "\n"
     ]
    }
   ],
   "source": [
    "print(f\"\"\"\n",
    "Temperature Lower Fence: {temp_lf}\n",
    "Temperature Upper Fence: {temp_uf}\n",
    "\n",
    "Rainfall Lower Fence: {rainfall_lf}\n",
    "Rainfall Upper Fence: {rainfall_uf}\n",
    "\n",
    "Flyers Lower Fence: {flyers_lf}\n",
    "Flyers Upper Fence: {flyers_uf}\n",
    "\n",
    "Price Lower Fence: {price_lf}\n",
    "Price Upper Fence: {price_uf}\n",
    "\n",
    "Sales Lower Fence: {sales_lf}\n",
    "Sales Upper Fence: {sales_uf}\n",
    "\"\"\")"
   ]
  },
  {
   "cell_type": "markdown",
   "metadata": {},
   "source": [
    "The outliers do make sense for "
   ]
  },
  {
   "cell_type": "markdown",
   "metadata": {},
   "source": [
    "_Using the multiplier of 3, IQR Range Rule, and the lower and upper bounds, identify the outliers above the upper_bound in each colum of lemonade.csv. Do these upper outliers make sense? Which outliers should be kept?_"
   ]
  },
  {
   "cell_type": "code",
   "execution_count": null,
   "metadata": {},
   "outputs": [],
   "source": []
  }
 ],
 "metadata": {
  "kernelspec": {
   "display_name": "Python 3",
   "language": "python",
   "name": "python3"
  },
  "language_info": {
   "codemirror_mode": {
    "name": "ipython",
    "version": 3
   },
   "file_extension": ".py",
   "mimetype": "text/x-python",
   "name": "python",
   "nbconvert_exporter": "python",
   "pygments_lexer": "ipython3",
   "version": "3.7.3"
  }
 },
 "nbformat": 4,
 "nbformat_minor": 2
}
