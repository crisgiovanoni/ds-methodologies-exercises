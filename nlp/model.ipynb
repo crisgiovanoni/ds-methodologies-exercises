{
 "cells": [
  {
   "cell_type": "code",
   "execution_count": 2,
   "metadata": {},
   "outputs": [],
   "source": [
    "import pandas as pd\n",
    "import numpy as np\n",
    "\n",
    "import acquire_news\n",
    "import prepare\n",
    "\n",
    "import warnings\n",
    "warnings.filterwarnings('ignore')"
   ]
  },
  {
   "cell_type": "code",
   "execution_count": 3,
   "metadata": {
    "collapsed": true
   },
   "outputs": [
    {
     "name": "stdout",
     "output_type": "stream",
     "text": [
      "stuff\n",
      "[{'title': \"I'll take it on the chin: Cave explorer after losing case against Elon Musk\", 'content': 'British cave explorer Vernon Unsworth, who lost the defamation case he filed against Elon Musk for calling him a \"pedo guy\", said he respects the jury\\'s decision. \"I’ll take it on the chin and move on,\" Unsworth added. His legal team sought at least $190 million in damages from the Tesla CEO for his tweets about the diver.', 'category': 'business', 'author': 'Krishna Veera Vanamali', 'published_date': '2019-12-07T15:31:16.000Z'}, {'title': 'My faith in humanity is restored: Musk after winning defamation case', 'content': 'After a US jury found that Elon Musk did not defame British cave explorer Vernon Unsworth by calling him a \"pedo guy\" on Twitter, the Tesla CEO said, \"My faith in humanity is restored\". The 48-year-old billionaire argued that he did not intend to call Unsworth a paedophile, but instead was using \"pedo guy\" to mean \"creepy old guy\".', 'category': 'business', 'author': 'Krishna Veera Vanamali', 'published_date': '2019-12-07T16:34:59.000Z'}, {'title': \"FIR filed against Club Factory in Lucknow for selling 'fake' items\", 'content': 'A Lucknow-based customer has filed an FIR against Chinese e-commerce platform Club Factory, its Directors Jialun Li and Garvit Aggarwal and CFO Ashwini Rastogi for allegedly selling fake products of popular brands. The complainant, who bought a Titan watch and Ray-Ban sunglasses at up to 90% discount, alleged he received counterfeits. Both the brands denied any relationship with Club Factory.\\n', 'category': 'business', 'author': 'Dharna', 'published_date': '2019-12-09T08:17:05.000Z'}, {'title': \"I want a 'New India' where Bajaj can speak fearlessly to govt: Tharoor\", 'content': 'Congress leader Shashi Tharoor said he wants a \\'New India\\' in which Rahul Bajaj and Kiran Mazumdar-Shaw can speak fearlessly to the government. \"It should be a New India where you won\\'t get lynched for the food you eat, marginalised for the faith you hold dear, criminalised for the person you love, mistrusted for the business you run,\" he added.', 'category': 'business', 'author': 'Krishna Veera Vanamali', 'published_date': '2019-12-08T01:30:55.000Z'}, {'title': 'Onion prices surge up to ₹200 per kg in Bengaluru', 'content': 'Price of onion has shot up to ₹200 per kg in Bengaluru due to severe short supply, an official said. \"Onion price touched ₹200 per kg in some retail shops of Bengaluru after its wholesale rate ranged between ₹5,500 and ₹14,000 per quintal,\" state agricultural marketing officer Siddagangaiah said. The surge in onion prices is expected to last until mid-January.', 'category': 'business', 'author': 'Pragya Swastik', 'published_date': '2019-12-08T08:44:31.000Z'}, {'title': 'Ideas come from a small set of people around PM: Rajan on economic reforms', 'content': 'Former RBI Governor Raghuram Rajan in an article for the India Today magazine said that the ideas and plans on economic reforms emanate from a small set of personalities around the Prime Minister and in the PMO. \"That works well for the party\\'s political and social agenda,\" he wrote. \"It works less well for economic reforms,\" he added.', 'category': 'business', 'author': 'Pragya Swastik', 'published_date': '2019-12-08T10:40:17.000Z'}, {'title': \"Sitharaman hints at personal income tax rate cut, says 'wait for Budget'\", 'content': 'Finance Minister Nirmala Sitharaman on Saturday said that a cut in personal income tax rates is one of the many things the government is considering to boost consumption. When asked how soon there will be a relief on personal income tax, she said, \"Wait for the Budget\". The Union Budget for 2020-21 will be presented in February.', 'category': 'business', 'author': 'Krishna Veera Vanamali', 'published_date': '2019-12-07T12:36:59.000Z'}, {'title': \"UP Cabinet approves Zurich Airport Int'l as developer for Jewar airport\", 'content': 'The Uttar Pradesh Cabinet on Monday approved Zurich Airport International as the developer for Jewar airport, a senior Uttar Pradesh government official said. On November 29, the Swiss firm had emerged as the highest bidder to develop the airport, outbidding competitors like Adani Enterprises, DIAL and Anchorage Infrastructure Investments Holding.', 'category': 'business', 'author': 'Pragya Swastik', 'published_date': '2019-12-09T09:35:55.000Z'}, {'title': \"Mahindra credits Gulzar for shayari on mobile, people say it's not by the poet\", 'content': \"Mahindra Group Chairman Anand Mahindra on Monday took to Twitter to share a shayari (couplet) revolving around mobile phones and credited poet Gulzar for penning it down. However, several users pointed out that Gulzar was not behind the couplet. A user also posted a screengrab showing the couplet on Facebook Page 'NotByGulzar' that documents poetry wrongly credited to Gulzar.\", 'category': 'business', 'author': 'Pragya Swastik', 'published_date': '2019-12-09T12:34:26.000Z'}, {'title': 'Walmart apologises for sweaters showing Santa with cocaine in Canada', 'content': 'Walmart has apologised for several adult-themed \\'ugly\\' Christmas sweaters on its Canada website including one that showed Santa Claus with cocaine, and another one that showed Santa near a fireplace without his pants. \"These sweaters, sold by a third-party seller on Walmart, do not represent Walmart\\'s values,\" a company spokesperson said. The sweaters were later removed from Walmart\\'s website.', 'category': 'business', 'author': 'Pragya Swastik', 'published_date': '2019-12-09T09:45:59.000Z'}, {'title': 'India is in a growth recession, says Raghuram Rajan', 'content': 'Ex-RBI Governor Raghuram Rajan has said India is in a growth recession, defined as an economy growing at a slow pace and where unemployment is rising. India\\'s real estate, construction and infrastructure industries are in \"deep trouble\", Rajan wrote in an article for a magazine. He added non-bank finance companies lending to these sectors should have their asset quality reviewed.', 'category': 'business', 'author': 'Krishna Veera Vanamali', 'published_date': '2019-12-07T11:44:34.000Z'}, {'title': 'I wanted to buy a proper piano until I saw the price list: Ratan Tata', 'content': 'Tata Sons Chairman Emeritus Ratan Tata in an interview to YourStory said that he wanted to relearn to play the piano after his retirement as the company\\'s Chairman. He said he wanted to buy a \"proper piano\" but bought an electronic one after seeing their prices. He added that learning to play the piano requires a lot of hard work.', 'category': 'business', 'author': 'Pragya Swastik', 'published_date': '2019-12-09T10:34:12.000Z'}, {'title': 'GST panel considers raising 5% slab to 6%: Reports', 'content': 'A panel set up to increase GST collections is considering slab restructuring by increasing the 5% rate to 6%, the Business Standard newspaper reported.  The move can result in additional revenues of ₹1,000 crore per month, it added. Essential commodities like basic clothing, footwear and food items are covered under the 5% slab.', 'category': 'business', 'author': 'Krishna Veera Vanamali', 'published_date': '2019-12-08T02:30:26.000Z'}, {'title': 'Maruti raises production by 4% in Nov after nine consecutive cuts', 'content': \"After cutting its output for nine consecutive months on account of lower demand, Maruti Suzuki India raised its production by 4.3% in November. The country's largest carmaker produced 1,41,834 vehicles in November compared to 1,35,946 units in the same month last year. Its production figures for passenger vehicles stood almost 3.7% higher at 1,39,084 units during the month.\", 'category': 'business', 'author': 'Dharna', 'published_date': '2019-12-09T06:12:07.000Z'}, {'title': \"We're moving towards harassment-free tax regime: Sitharaman\", 'content': 'Finance Minister Nirmala Sitharaman said on Saturday that government is taking steps towards building a simplified taxation structure to ensure that assessees are not \\'harassed\\'. \"We have asked tax collection officers to not strain and put pressure on... assessees even if tax collection targets are not met,\" she said. The government is moving towards an exemption-free tax regime, she added.', 'category': 'business', 'author': 'Sakshita Khosla', 'published_date': '2019-12-07T13:44:22.000Z'}, {'title': 'Aramco IPO proceeds rise to $29.4 bn after selling 15% more stock: Report', 'content': 'Proceeds from Saudi Aramco\\'s IPO have risen to $29.4 billion after it exercised an option to sell 15% more stock, reports said. \"The final number of shares sold is 3.450 billion and the final value of the deal is $29.4 billion,\" said Wassim Al Khatib, Head of Investment Banking at National Commercial Bank. Aramco\\'s main IPO has raised $25.6 billion.', 'category': 'business', 'author': 'Anushka Dixit', 'published_date': '2019-12-09T15:56:33.000Z'}, {'title': 'SBI reduces lending rate by 10 bps in 8th consecutive cut this year', 'content': \"The SBI has announced a reduction in its one-year Marginal Cost of Funds-based Lending Rate (MCLR) by 10 basis points across all tenors. This is SBI's eighth consecutive cut in lending rate in the current financial year. Effective from December 10, the MCLR will come down to 7.90% per annum from 8% earlier, making home and other retail loans cheaper.\", 'category': 'business', 'author': 'Dharna', 'published_date': '2019-12-09T10:07:33.000Z'}, {'title': 'Tata Steel to give HR benefits to partners of LGBTQ staff under HR policy', 'content': 'Tata Steel has introduced a new HR policy that will allow its employees from the LGBTQ community to declare their partners and avail HR benefits. Employees and their partners will get benefits including health check-ups, medical facilities and adoption leave. They will also get financial assistance for gender reassignment surgery and 30 days leave for the same, the company said.', 'category': 'business', 'author': 'Anushka Dixit', 'published_date': '2019-12-09T11:10:07.000Z'}, {'title': 'Paul Volcker, former Fed Chairman who curbed inflation, dies at 92', 'content': 'Paul Volcker, the former Federal Reserve Chairman who helped tame inflation in the 1980s and carried out Wall Street reforms amid the global financial crisis, died on Sunday at the age of 92. Volcker died due to complications from prostate cancer, said his daughter, Janice Zima. He was also an adviser to ex-Presidents Richard Nixon and Barack Obama.', 'category': 'business', 'author': 'Anushka Dixit', 'published_date': '2019-12-09T15:02:10.000Z'}, {'title': 'Bharti Telecom seeks ₹4,900 cr FDI nod; move to make Airtel a foreign firm', 'content': \"Bharti Telecom has sought government's permission for infusion of ₹4,900 crore investment from Singapore-based Singtel and other foreign entities, that would make it a foreign entity. DoT is reportedly expected to give its approval this month and the infusion will increase Singtel's shareholding in Bharti Telecom to over 50%. It will take overseas ownership in Bharti Telecom to over 85%.\\n\", 'category': 'business', 'author': 'Anushka Dixit', 'published_date': '2019-12-08T14:41:47.000Z'}, {'title': 'Delhi government to sell seized liquor at 25% less price', 'content': 'People will now be able to purchase seized liquor at a 25% cheaper rate than the actual price after the Delhi government gave a nod to sell such liquor. Until now, seized liquor was destroyed after completing legal formalities. As per estimates, over 2.5 lakh bottles of liquor are seized by excise department every year. ', 'category': 'business', 'author': 'Anushka Dixit', 'published_date': '2019-12-08T12:54:38.000Z'}, {'title': 'SEBI scans matrimonial sites to catch manipulators in front-running cases', 'content': 'With the aim to catch manipulators, SEBI has started scanning matrimonial websites to look for profiles of suspected persons to find links with family members in front-running cases. It has checked the profile of a trader, Vaibhav Dhadda, who was barred for front-running in funds of Fidelity Group, and had used the alias Avi. SEBI also barred two other people.\\n', 'category': 'business', 'author': 'Anushka Dixit', 'published_date': '2019-12-08T15:15:38.000Z'}, {'title': 'Yes Bank may reject $1.2 billion bid from Canadian firm: Reports', 'content': \"Yes Bank is reportedly planning to reject an offer from Canada's Erwin Singh Braich and Hong Kong-based SPGP Holdings for a $1.2-billion contribution towards fund raising. The funding was a part of the bank's $2 billion planned capital raising. It's reported that the rejection was over doubt that RBI may not allow the foreign bidders to buy the stake.\\n\", 'category': 'business', 'author': 'Anushka Dixit', 'published_date': '2019-12-09T14:17:54.000Z'}, {'title': 'Companies may get 2 years to comply with data protection law', 'content': 'Companies may have up to two years to comply with the Personal Data Protection Bill, once it\\'s approved by the Parliament. \"Around two years will be given to the companies to be compliant with the law,\" a government official said. The Bill states that organisations will seek an individual\\'s consent before collecting data and will notify them of its use. ', 'category': 'business', 'author': 'Anushka Dixit', 'published_date': '2019-12-09T11:50:22.000Z'}, {'title': 'West Indies end their 7-T20I losing streak against India, level series 1-1', 'content': \"West Indies chased down the target of 171 against India in the second T20I at Thiruvananthapuram on Sunday to level the three-match series 1-1. The win also ended West Indies' seven-T20I losing streak against India, which had started on November 4, 2018. The series decider will take place on December 11 (Wednesday) at Wankhede Stadium in Mumbai. \\n\\n\", 'category': 'sports', 'author': 'Anmol Sharma', 'published_date': '2019-12-08T16:55:31.000Z'}, {'title': 'Cricket was in my blood but my cricket career was doomed: Saif Ali Khan', 'content': 'Talking about not becoming a cricketer like his father and grandfather, actor Saif Ali Khan said, \"Cricket was in my blood. I played good cricket but I never played in school or college.\" He added, \"What let me down is...cricket\\'s a very mental game...it\\'s about patience and timing. That I was strongly lacking in...that\\'s why my cricket career was doomed.\"', 'category': 'sports', 'author': 'Anmol Sharma', 'published_date': '2019-12-09T11:12:02.000Z'}, {'title': 'I am capable of hitting sixes on any ground: Shivam Dube', 'content': 'India all-rounder Shivam Dube, who slammed his maiden T20I fifty against West Indies on Sunday, said that he is capable of hitting sixes on any ground. Dube slammed four sixes during his knock, including three in one Kieron Pollard over. \"I think that\\'s my strength and I always go like that only,\" Dube added talking about power being his USP.', 'category': 'sports', 'author': 'Anmol Sharma', 'published_date': '2019-12-09T12:01:45.000Z'}, {'title': 'People, my father is not Courtney Walsh: West Indies spinner Hayden Walsh', 'content': 'West Indies leg-spinner Hayden Walsh, who took two wickets in the Thiruvananthapuram T20I against India, said, \"People...my father is not Courtney Walsh.\" He further said that once while he was playing in the Canada T20 League, someone called him Courtney Walsh. \"But...I guess now people will find out who I am and who is my father,\" Walsh added.', 'category': 'sports', 'author': 'Anmol Sharma', 'published_date': '2019-12-09T14:38:49.000Z'}, {'title': 'Russia banned from global sports for 4 years over doping, to miss Olympics', 'content': 'World Anti-Doping Agency (WADA) has handed a four-year suspension to Russian Athletics Federation from all major sporting events, which includes the upcoming Tokyo Olympics and World Championships. Earlier this year, WADA investigators and International Olympic Committee (IOC) had stated the Russian authorities tampered with a Moscow laboratory database to hide several potential doping cases.', 'category': 'sports', 'author': 'Anmol Sharma', 'published_date': '2019-12-09T11:33:50.000Z'}, {'title': 'If we field so poorly, no amount of runs will be enough: Virat Kohli', 'content': 'After West Indies won the second T20I and levelled the three-match series 1-1, Team India captain Virat Kohli said, \"If we field so poorly, no amount of runs will be enough.\" \"We dropped two catches in one over. Imagine if they lost two wickets in the same over. Everyone saw we need to be more brave in fielding,\" he added.', 'category': 'sports', 'author': 'Anmol Sharma', 'published_date': '2019-12-09T09:18:10.000Z'}, {'title': 'Nehwal responds to journo who criticised her for praising police for encounter', 'content': 'Badminton player Saina Nehwal took to Twitter to respond to a journalist who had criticised her for praising Hyderabad police for killing all the four accused in an encounter in veterinarian\\'s rape and murder case. \"Can’t even imagine the horror the victim felt and then when these rapists are shot down however the incident happened, I am happy,\" Saina wrote.\\n\\n', 'category': 'sports', 'author': 'Anmol Sharma', 'published_date': '2019-12-08T15:40:41.000Z'}, {'title': 'Ranji match delayed as snake enters ground; BCCI shares video', 'content': 'The start of the Ranji Trophy match between Andhra and Vidarbha was delayed after a snake entered the ground. BCCI Domestic\\'s official Twitter handle posted a video of the reptile being chased away by the ground staff. \"There was a visitor on the field,\" BCCI Domestic wrote along with the video.', 'category': 'sports', 'author': 'Ankush Verma', 'published_date': '2019-12-09T07:45:39.000Z'}, {'title': 'Two pink-ball Tests in a series is too much: BCCI President Sourav Ganguly', 'content': 'BCCI President Sourav Ganguly has said two day-night Tests in a series would be too much. The remark comes after a report said that Cricket Australia chairman Earl Eddings is interested in having a series against India with more than one pink-ball Tests. \"Two/Four would be a bit too much with the pink ball. We will assess it,\" Ganguly added.', 'category': 'sports', 'author': 'Anmol Sharma', 'published_date': '2019-12-08T17:25:26.000Z'}, {'title': 'French basketball player fined ₹1L for not looking at China flag during anthem', 'content': 'Ex-NBA player Guerschon Yabusele from France, who plays for Nanjing Tongxi Monkey King in Chinese Basketball Association (CBA) has been fined $1,400 (₹1 lakh) for not looking at Chinese flag during the national anthem before a game. \"He\\'s happy to take money from China...but he doesn\\'t respect it,\" a fan commented. \"In what era does the CBA live?\" wrote another.', 'category': 'sports', 'author': 'Anmol Sharma', 'published_date': '2019-12-09T11:36:30.000Z'}, {'title': \"Kohli asks crowd to behave after they chant 'Dhoni' as Pant drops catch\", 'content': \"Team India captain Virat Kohli, while fielding in the deep during the second T20I against West Indies in Thiruvananthapuram, asked the crowd to behave after they chanted 'Dhoni, Dhoni' following a dropped catch by wicketkeeper-batsman Rishabh Pant. Ahead of the match, Kohli had said that crowd chanting 'Dhoni, Dhoni' for Pant is disrespectful and the crowd shouldn't do it.\", 'category': 'sports', 'author': 'Anmol Sharma', 'published_date': '2019-12-09T09:19:13.000Z'}, {'title': \"Lionel Messi beats Cristiano Ronaldo's La Liga hat-trick record\", 'content': \"Lionel Messi has broken Cristiano Ronaldo's record for the most hat-tricks in La Liga history after scoring another treble in Barcelona's 5-2 win over Real Mallorca on Saturday. The 32-year-old has now scored 35 career hat-tricks in La Liga, one more than Ronaldo, who spent nine years with Real Madrid before joining Serie A club Juventus in 2018.\", 'category': 'sports', 'author': 'Anmol Sharma', 'published_date': '2019-12-08T17:28:58.000Z'}, {'title': '41-year-old Wasim Jaffer becomes first ever cricketer to play 150 Ranji matches', 'content': 'Batsman Wasim Jaffer has become the first-ever cricketer to play 150 Ranji Trophy matches, achieving the feat after taking the field for Vidarbha against Andhra on Monday. Jaffer is followed by Devendra Bundela with 145 appearances between 1995 and 2017 and Amol Muzumdar with 136 appearances between 1993 and 2013. Jaffer is also the highest run-scorer in Ranji Trophy.\\n', 'category': 'sports', 'author': 'Anmol Sharma', 'published_date': '2019-12-09T13:32:28.000Z'}, {'title': \"Don't have magic wand to make everything right just like that: Misbah\", 'content': 'Responding to a reporter who asked him if he agreed with criticism directed at him and whether he\\'d step down as some ex-players demanded, Pakistan head coach Misbah-ul-Haq said, \"What do you want?\" \"You\\'ve to understand...I don\\'t have a magic wand to make everything right just like that. The players need a process to settle down and perform,\" he added.', 'category': 'sports', 'author': 'Anmol Sharma', 'published_date': '2019-12-09T10:36:00.000Z'}, {'title': 'Two adventurers successfully cross the Arctic Ocean on skis', 'content': 'Adventurers Mike Horn and Borge Ousland have successfully crossed the Arctic Ocean on skis after enduring cold conditions, briefly running out of food, and struggling to traverse thin ice caused by global warming, their team said on Sunday. The duo reached the sea ice on September 12 and have since been travelling on skis, pulling sledges with supplies behind them.', 'category': 'sports', 'author': 'Dishant Sharma', 'published_date': '2019-12-09T14:59:03.000Z'}, {'title': 'MS Dhoni to produce TV show on army officers: Reports', 'content': \"MS Dhoni, who holds an honorary rank of Lieutenant Colonel in Parachute Regiment of Territorial Army, will reportedly produce a TV show based on the stories of army officers. It'll reportedly narrate the personal stories of the Param Vir Chakra and Ashoka Chakra awardees. The show currently is being scripted and is scheduled to release in 2020, reports added. \", 'category': 'sports', 'author': 'Udit Gupta', 'published_date': '2019-12-09T11:31:54.000Z'}, {'title': \"Salman, Katrina perform at B'desh Premier League opening ceremony\", 'content': 'Actors Salman Khan and Katrina Kaif performed at the opening ceremony of Bangabandhu Bangladesh Premier League (BPL) in Dhaka on Sunday. Sharing a picture with Bangladesh PM Sheikh Hasina, who inaugurated the seventh edition of BPL, Salman wrote, \"[I]t was a pleasure...to [meet]...Honourable Prime Minister Sheikh Hasina.\" Singers Kailash Kher and Sonu Nigam also performed at the ceremony.', 'category': 'sports', 'author': 'Vidushi Mishra', 'published_date': '2019-12-09T07:58:50.000Z'}, {'title': 'Man City not able to compete with elites like United: Guardiola', 'content': 'Manchester City\\'s manager Pep Guardiola said that his team is \"maybe not able to compete with\" the likes of Manchester United, Barcelona and Liverpool currently. He added that City should accept the reality and improve. Notably, the Premier League defending champions lost 1-2 to United on Saturday and are 14 points behind table-toppers Liverpool on the league table.', 'category': 'sports', 'author': 'Utkarsh Kumar', 'published_date': '2019-12-09T12:27:22.000Z'}, {'title': 'Excessive pressure on Pant is unnecessary: Brian Lara', 'content': 'Speaking about Indian wicketkeeper Rishabh Pant, former West Indies batsman Brian Lara said, \"I know the time is critical with the World T20 just 8 or 9 months away... [B]ut the excessive pressure on him is unnecessary.\" \"I feel Rishabh Pant should be allowed to mature,\" Lara added while recalling how former players like Carl Hooper were \\'allowed to mature\\'.', 'category': 'sports', 'author': 'Dishant Sharma', 'published_date': '2019-12-09T15:08:17.000Z'}, {'title': 'Confident of performing in second debut: Alam on Test recall', 'content': 'Speaking about his Pakistan Test team recall, batsman Fawad Alam said, \"I said the other day it will almost feel like a debut... Where they feel I can deliver, they\\'ll give me a chance and I\\'m confident I\\'ll perform.\" \"I should try and enjoy the opportunity I\\'ve been given right now and think positively,\" Alam added.', 'category': 'sports', 'author': 'Dishant Sharma', 'published_date': '2019-12-09T16:02:16.000Z'}, {'title': \"Listened to Warne's radio commentary to learn bowling: Lamichhane\", 'content': 'Nepal\\'s 19-year-old spinner Sandeep Lamichhane, who made his international debut aged 17,  recalled that he used to listen to Shane Warne\\'s radio cricket commentary to get bowling advises. \"I would hear his voice...and would put in to practice the advice he would give,\" he added. Lamichhane also thanked former Australia captain Michael Clarke for taking him to Australia to train.', 'category': 'sports', 'author': 'Utkarsh Kumar', 'published_date': '2019-12-08T16:38:11.000Z'}, {'title': \"West Indies' Ramdin gifts match tickets to 4-yr-old before 2nd T20I\", 'content': 'West Indies\\' wicketkeeper-batsman Denesh Ramdin stopped on his way to the second T20I against India in Thiruvananthapuram and presented a 4-year-old girl with match tickets and a gift. Windies Cricket took to Twitter to share pictures of the incident and captioned, \"Probably one of the cutest things on internet today.\" \"Huge respect for you,\" a user commented on the post.\\n\\n', 'category': 'sports', 'author': 'Utkarsh Kumar', 'published_date': '2019-12-08T16:26:53.000Z'}, {'title': 'A champs life is of dedication, f*****g headaches: Joshua post win', 'content': 'British boxer Anthony Joshua beat Mexican-American Andy Ruiz Jr in a rematch in Saudi Arabia to reclaim his IBF, WBA and WBO heavyweight titles which he had lost to him in June. \"It’s hard being champion. It’s not all fun...it’s a life of discipline, dedication and f*****g headaches,” Joshua said after winning. \"I\\'ll always have to prove myself,\" he added.', 'category': 'sports', 'author': 'Utkarsh Kumar', 'published_date': '2019-12-09T16:07:07.000Z'}, {'title': \"Future selector Bailey's First-class career ends with golden duck\", 'content': 'Tasmania captain George Bailey, who is set to replace Greg Chappell as the national selector, ended his First-class career with a golden duck while playing against South Australia in the Sheffield Shield. \"Wes Agar has just assured he will never get picked for Australia EVER! An unfitting end to an outstanding #SheffieldShield career. Thank you, George,\" tweeted Cricket Australia.', 'category': 'sports', 'author': 'Dishant Sharma', 'published_date': '2019-12-09T15:58:28.000Z'}, {'title': \"Real Betis' Sanchez oldest player with La Liga hat-trick at 38\", 'content': \"Real Betis's 38-year-old winger Joaquin Sanchez scored his first career hat-trick on Sunday to become the oldest player with a hat-trick in the Spanish league. Real Madrid great Alfredo Di Stefano held the previous record at the age of 37. Sanchez's hat-trick helped his side register a  3-2 win over Athletic Bilbao.\", 'category': 'sports', 'author': 'Dishant Sharma', 'published_date': '2019-12-09T15:03:10.000Z'}, {'title': \"Age doesn't matter: Apple CEO on meeting 84-year-old app developer\", 'content': 'Apple CEO Tim Cook on Sunday posted pictures with 84-year-old app developer Masako Wakamiya and a young developer Hikari, whom he met in Japan. \"Some of our imaginative developers prove that no matter your age, coding opens up new opportunities to follow your dreams,\" tweeted Cook. In 2017, Japan\\'s Masako Wakamiya launched \\'Hinadan\\', a game aimed at elderly users.', 'category': 'technology', 'author': 'Pragya Swastik', 'published_date': '2019-12-08T11:35:34.000Z'}, {'title': 'HackerOne pays ₹14 lakh to hacker who hacked the bug bounty platform', 'content': 'US-based platform HackerOne, which pays hackers who find bugs in products, services and websites for companies like Uber, Instagram, Zomato, Twitter and others, was breached by one of its own community members. The user with the handle called \"haxta4ok00\" was paid $20,000 (over ₹14 lakh) by HackerOne. \"Less than 5% of HackerOne programmes were impacted by the breach,\" HackerOne said.', 'category': 'technology', 'author': 'Pragya Swastik', 'published_date': '2019-12-09T01:30:17.000Z'}, {'title': 'China orders govt offices to remove foreign computers: Report', 'content': \"China has ordered its government offices and public institutions to replace all foreign computer equipment and software within three years, the Financial Times reported. The directive comes amid China's attempt to increase reliance on domestic technologies, further fuelled by China-US trade war. The report added that starting 2020, around 20-30 million pieces of hardware will have to be replaced.\", 'category': 'technology', 'author': 'Dharna', 'published_date': '2019-12-09T07:12:44.000Z'}, {'title': 'My faith in humanity is restored: Musk after winning defamation case', 'content': 'After a US jury found that Elon Musk did not defame British cave explorer Vernon Unsworth by calling him a \"pedo guy\" on Twitter, the Tesla CEO said, \"My faith in humanity is restored\". The 48-year-old billionaire argued that he did not intend to call Unsworth a paedophile, but instead was using \"pedo guy\" to mean \"creepy old guy\".', 'category': 'technology', 'author': 'Krishna Veera Vanamali', 'published_date': '2019-12-07T16:34:59.000Z'}, {'title': 'In tech, people either break or become a**holes: Zilingo’s Ankiti Bose', 'content': 'Singapore-based fashion startup Zilingo\\'s Indian Co-Founder and CEO Ankiti Bose said her company offers a coaching programme to its top 100 leaders. \"Either people will break or become a**holes—standard tech unicorn a**holes,\" the 28-year-old said. Zilingo, which has 800 employees, was valued at $970 million in February when it raised $226 million from investors including Sequoia and Temasek.', 'category': 'technology', 'author': 'Krishna Veera Vanamali', 'published_date': '2019-12-07T13:35:30.000Z'}, {'title': 'WhatsApp fixes voice calling problem associated with call waiting', 'content': \"WhatsApp is adding a call waiting feature for Android users to let them know someone is making a WhatsApp call when they're already on a call. It lets users either decline the incoming call or end the existing one and accept the incoming call. Earlier, users had no option to receive a call while they were already on a call.\", 'category': 'technology', 'author': 'Pragya Swastik', 'published_date': '2019-12-08T09:06:48.000Z'}, {'title': 'Our 4.4 crore customers are using leaked passwords: Microsoft', 'content': 'Microsoft has discovered that over 4.4 crore users of Azure and Microsoft Services Accounts (MSA) are using leaked credentials to log into their accounts. The Microsoft identity threat research team checked over 300 crore credentials obtained from different breaches and found a match for over 4.4 crore user credentials. \"We force a password reset for such accounts,\" Microsoft said.', 'category': 'technology', 'author': 'Pragya Swastik', 'published_date': '2019-12-08T09:58:17.000Z'}, {'title': \"I'll take it on the chin: Cave explorer after losing case against Elon Musk\", 'content': 'British cave explorer Vernon Unsworth, who lost the defamation case he filed against Elon Musk for calling him a \"pedo guy\", said he respects the jury\\'s decision. \"I’ll take it on the chin and move on,\" Unsworth added. His legal team sought at least $190 million in damages from the Tesla CEO for his tweets about the diver.', 'category': 'technology', 'author': 'Krishna Veera Vanamali', 'published_date': '2019-12-07T15:31:16.000Z'}, {'title': \"Reddit bans 61 accounts linked to 'suspected campaign from Russia'\", 'content': 'Reddit has banned 61 accounts linked to alleged Russian interference in Britain\\'s upcoming elections. The platform linked an account activity involving leak of UK-US trade documents ahead of elections to a \"suspected Russian influence operation\". The platform also found a “pocket of accounts” that worked together to manipulate votes on the original post in an attempt to amplify it.', 'category': 'technology', 'author': 'Aishwarya', 'published_date': '2019-12-08T08:58:46.000Z'}, {'title': 'Hackers lock 10 years worth of govt files in Argentina, demand bitcoin', 'content': \"Approximately 10 years' worth of Argentina's government data was hacked in a bitcoin ransomware attack, the country's Minister of Science and Technology, Alicia Bañuelos said. About 7,700 GB worth of data was compromised and reports said that the attackers have asked for $37,000-$370,000 (0.5-50 BTC) in exchange for decrypting the files. Bañuelos said that 90% of data has been recovered.\", 'category': 'technology', 'author': 'Anushka Dixit', 'published_date': '2019-12-09T16:38:04.000Z'}, {'title': \"Tool that helped Amazon's products appear 1st in search disabled in India\", 'content': 'Amazon has disabled its search-seeding tool which helped decide which products appear first in searches on its India marketplace after it reportedly found merchants misusing it. A merchant had alleged that he has used seeding to improve search results. Amazon India, however, said that \"it does not provide any tool to sellers that can manipulate the ranking of shopping results\".', 'category': 'technology', 'author': 'Anushka Dixit', 'published_date': '2019-12-09T15:41:48.000Z'}, {'title': \"COAI, others, question TRAI's attempt to regulate cloud services\", 'content': 'After TRAI introduced a consultation paper in an attempt to regulate cloud service providers (CSPs), several telecom companies including COAI have raised concerns. The companies have argued that the authority doesn\\'t have the jurisdiction to do so and also that CSPs have enough regulation already. However, Reliance Jio Infocomm has backed the idea of having \"light-touch regulation\" across CSPs.', 'category': 'technology', 'author': 'Anushka Dixit', 'published_date': '2019-12-08T09:53:07.000Z'}, {'title': ' Bill Gates appears in Silicon Valley series finale', 'content': 'Microsoft Co-founder Bill Gates made a cameo appearance in the finale of Emmy-winning tech industry satire series \\'Silicon Valley\\'. Gates said, \"I\\'m a big fan of [Silicon Valley] and was excited when they asked me to appear in the...finale tonight.\" Its executive producer Alec Berg said the team also met Gates in 2017 to seek his advice on the storyline.', 'category': 'technology', 'author': 'Dharna', 'published_date': '2019-12-09T09:18:09.000Z'}, {'title': 'Vietnam-backed hacking group targets BMW, Hyundai for trade secrets: Report', 'content': 'Networks of BMW and Hyundai were hacked allegedly by a Vietnam-backed hacking group called OceanLotus in an attempt to find trade secrets, a report has revealed. BMW had found the hackers shortly but let them operate for \"months\" before blocking them in December. No sensitive data would have leaked out of BMW, a security expert said.', 'category': 'technology', 'author': 'Anushka Dixit', 'published_date': '2019-12-08T15:38:38.000Z'}, {'title': 'PM Modi visits supercomputer facility in Pune, meets scientists', 'content': \"PM Narendra Modi visited the supercomputer facility 'Param Brahma' and interacted with scientists at the Indian Institute of Science Education and Research (IISER) in Pune. PM Modi urged them to develop low-cost technologies that can help in fast-tracking India's growth. Param Brahma supercomputer will allow scientists to scale up their existing work in areas such as agriculture and healthcare.\", 'category': 'technology', 'author': 'Anushka Dixit', 'published_date': '2019-12-08T17:34:59.000Z'}, {'title': 'Google Maps now shows info on 58,000 public toilets across India', 'content': 'Information about 58,000 public toilets across 2,500 cities is available on Google Maps, Union Minister Hardeep Singh Puri said. \"If a toilet is not maintained or if it\\'s not usable, we are able to fix it with the use of technology on real-time basis,\" Puri said. The government has a target of building over 66 lakh toilets in urban areas.', 'category': 'technology', 'author': 'Anushka Dixit', 'published_date': '2019-12-08T11:09:42.000Z'}, {'title': 'ISRO to launch 2nd spy satellite on Dec 11 to help monitor disasters ', 'content': 'ISRO will launch its second spy satellite called the Risat-2BR1 on December 11, which will help in monitoring disaster events, rescue missions and surveillance purposes. The Risat-2BR1, which has a life span of five years, will be accompanied by nine commercial satellites. The satellites will be launched from the Satish Dhawan Space Centre in Sriharikota at 3:25 pm.', 'category': 'technology', 'author': 'Anushka Dixit', 'published_date': '2019-12-09T15:35:44.000Z'}, {'title': 'Google to end support for Glass Explorer Edition after final update', 'content': \"Google has rolled out a final update for Glass Explorer Edition before ending support for its wearable. Users will have to install the update manually. It will remove the need and ability to use one's Google account on Glass after February 25, 2020. The update applies only to Glass Explorer Edition devices and doesn't affect Glass Enterprise Edition devices.\\n\\n\", 'category': 'technology', 'author': 'Aishwarya', 'published_date': '2019-12-07T11:02:38.000Z'}, {'title': 'Hungary watchdog fines Facebook $4 mn for misleading users', 'content': \"Facebook has been fined $4 million by Hungary's competition watchdog for misleading users by claiming its services are for free. The watchdog said Facebook has been using user data to make profit with adverts posted on its page. It added the data collected by Facebook enabled it to post targeted ads while users remained unaware of data they handed over.  \", 'category': 'technology', 'author': 'Aishwarya', 'published_date': '2019-12-07T14:40:19.000Z'}, {'title': \"Apple's upcoming iPhone SE 2 may be named 'iPhone 9': Report\", 'content': \"The successor to Apple's iPhone SE, expected to be launched in March 2020, could be named 'iPhone 9' instead of 'iPhone SE 2', Japanese blog Mac Otakara reported. This is because of the budget phone reportedly having a form factor identical to the iPhone 8. The model may also have the A13 Bionic chipset that was launched in iPhone 11.\\n\", 'category': 'technology', 'author': 'Dharna', 'published_date': '2019-12-09T11:07:41.000Z'}, {'title': 'Ericsson agrees to pay $1 bn to resolve US corruption probes', 'content': 'The US justice department said Ericsson has agreed to pay over $1 billion to resolve allegations of bribery and corruption. The long-running corruption investigation involves potential payoffs in countries including China. The settlement would require Ericsson to pay over $520-million criminal penalty and around $540-million fine to US Securities and Exchange Commission in a related matter. ', 'category': 'technology', 'author': 'Aishwarya', 'published_date': '2019-12-07T16:24:46.000Z'}, {'title': \"US charges Russian 'Evil Corp' hackers with $100m banking scheme\", 'content': \"US prosecutors charged two leading members of Russian hacking group, 'Evil Corp', which allegedly used malicious software to orchestrate global banking fraud that stole over $100 million. The authorities said the gang used a malware called 'Dridex' that helped elude anti-virus software. Once infected, it could empty accounts of bank staff and customers and forward proceeds to the group's accounts.\", 'category': 'technology', 'author': 'Aishwarya', 'published_date': '2019-12-07T17:25:34.000Z'}, {'title': \"Facebook makes its 'Crisis Response' tools available on WhatsApp\", 'content': \"Facebook has introduced its 'Crisis Response' tools on WhatsApp to let users alert friends and family of a natural disaster or terrorist attack during poor connectivity. It'll also include Facebook's disaster maps, which will have details about commute patterns and tourist populations. One of its main features is Safety Check, which allows users to mark themselves 'safe' during a crisis.\", 'category': 'technology', 'author': 'Anushka Dixit', 'published_date': '2019-12-08T12:19:52.000Z'}, {'title': 'Apple may launch four 5G iPhone models in 2020: Report', 'content': 'Apple may launch four variants of 5G iPhones in 2020, said Apple analyst Ming Chi-Kuo, adding that they may come with Qualcomm X55 modem. The tech giant could not introduce 5G-enabled iPhones in 2019 due to issues with Qualcomm which were resolved later, reports said. It is also reportedly expected that the four models will have OLED screens.', 'category': 'technology', 'author': 'Anushka Dixit', 'published_date': '2019-12-08T13:53:22.000Z'}, {'title': 'Amazon to support US military despite Microsoft winning JEDI deal: Bezos ', 'content': 'Amazon CEO Jeff Bezos said that the company will continue to support the US military business even after the Pentagon chose Microsoft for the $10 billion JEDI contract. He added that US would be in \"big trouble\" if tech companies turn their backs on the defence department. His comments come after Google withdrew from its AI military contract Project Maven.', 'category': 'technology', 'author': 'Anushka Dixit', 'published_date': '2019-12-09T11:06:16.000Z'}, {'title': \"Kartik Aaryan gets criticised for 'fake abs' in hair removal cream ad\", 'content': 'Actor Kartik Aaryan has been criticised over a hair removal cream advertisement, with social media users claiming that his abs in the advertisement are edited. Instagram account Diet Sabya shared a clip from the advertisement and called him out. \"This ad is wrong [on] so many levels...fake abs...toxic masculinity,\" a user commented while another comment read, \"Best body VFX award.\" ', 'category': 'entertainment', 'author': 'Daisy Mowke', 'published_date': '2019-12-09T10:41:14.000Z'}, {'title': 'Rangoli trolls Alia for award-fixing as video shows her with trophy before show', 'content': \"Rangoli Chandel has trolled Alia Bhatt for alleged award-fixing after a video, purportedly showing her with Star Screen Awards trophy before the award show began, surfaced online. In the video, a person who's said to be Alia's manager, is heard asking photographers when they'll upload the pictures. When a photographer answers 'After an hour', the woman says 'After 7 pm'. \", 'category': 'entertainment', 'author': 'Daisy Mowke', 'published_date': '2019-12-09T09:50:57.000Z'}, {'title': 'Rashami was on road, had zero balance in account when I met her: Arhaan', 'content': 'Rashami Desai\\'s purported \\'boyfriend\\' Arhaan Khan has claimed the TV actress was \"on the road\\'\\' and had zero balance in her account when they met, as shown in a Bigg Boss 13 promo. After being evicted, Khan reentered the show to propose to Desai. However, host Salman Khan told the actress that Khan is a married man with a child.', 'category': 'entertainment', 'author': 'Pragya Swastik', 'published_date': '2019-12-09T14:51:45.000Z'}, {'title': 'Cricket was in my blood but my cricket career was doomed: Saif Ali Khan', 'content': 'Talking about not becoming a cricketer like his father and grandfather, actor Saif Ali Khan said, \"Cricket was in my blood. I played good cricket but I never played in school or college.\" He added, \"What let me down is...cricket\\'s a very mental game...it\\'s about patience and timing. That I was strongly lacking in...that\\'s why my cricket career was doomed.\"', 'category': 'entertainment', 'author': 'Anmol Sharma', 'published_date': '2019-12-09T11:12:02.000Z'}, {'title': \"'I like sex' line in 'Pati...' wasn't awkward, my character a modern girl: Bhumi\", 'content': 'Actress Bhumi Pednekar, on being asked if she felt awkward saying the dialogue \\'I like sex\\' in \\'Pati Patni Aur Woh\\', said, \"No, it wasn\\'t awkward.\" She added, \"My character [in the film] is of a [modern] girl, isn\\'t it?\" Earlier, speaking about the dialogue being called \"adult humour\", the film\\'s director Mudassar Aziz questioned, \"Why can\\'t women enjoy sex?\"', 'category': 'entertainment', 'author': 'Daisy Mowke', 'published_date': '2019-12-09T07:40:28.000Z'}, {'title': 'Glad for your success: SRK to Indonesian actor who thanked him in award speech', 'content': 'Actor Shah Rukh Khan on Monday tweeted, \"I\\'m so glad for your success,\" for Indonesian actor Muhammad Khan, who thanked him in his speech after winning the Best Actor award at Citra 2019. \"I\\'d like to share the award with my hero Shah Rukh,\" Muhammad said. The Indonesian actor even sang \\'Mere Mehboob\\' song from SRK\\'s film \\'Duplicate\\'.', 'category': 'entertainment', 'author': 'Pragya Swastik', 'published_date': '2019-12-09T15:39:02.000Z'}, {'title': 'Which films have been nominated for Best Picture at Golden Globes 2020?', 'content': \"The nominees for the Best Picture (Drama) at Golden Globes 2020 include Netflix's Marriage Story, The Two Popes and The Irishman. These are Netflix's first-ever Golden Globes Best Picture (Drama) nominations. Further, Todd Phillips' directorial Joker, which starred Joaquin Phoenix and became the first R-rated movie to earn $1 billion worldwide has also been nominated.\", 'category': 'entertainment', 'author': 'Anmol Sharma', 'published_date': '2019-12-09T17:54:23.000Z'}, {'title': 'People felt I looked like a girl: Saif on the beginning of his career', 'content': 'Speaking about \"mean things\" that producers or directors told him at the beginning of his career, Saif Ali Khan said, \"People talk about your looks.\" \"I guess I didn\\'t look like a hero. Akshay Kumar did. They felt I looked like a girl,\" he added. \"I certainly had a bad voice...Sometimes, I was squeaking...in an English accent,\" said Saif.', 'category': 'entertainment', 'author': 'Daisy Mowke', 'published_date': '2019-12-09T12:46:02.000Z'}, {'title': 'Miss Universe pageant wrongly congratulates Miss Malaysia for award', 'content': 'Miss Universe pageant mistakenly congratulated Miss Malaysia Shweta Sekhon for winning Best National Costume. It later deleted the tweet and wrote, \"Miss Universe Philippines Gazini Ganados is the winner!\" Earlier, reports said host Steve Harvey mixed up the names, although he explained during the live telecast that the teleprompter read Miss Philippines, despite Miss Malaysia being sent on stage.', 'category': 'entertainment', 'author': 'Daisy Mowke', 'published_date': '2019-12-09T07:45:27.000Z'}, {'title': \"She sucked it for months: Chrissy to troll asking her to 'cover up' near daughter\", 'content': 'Model Chrissy Teigen has responded to a troll who asked her to \"cover up\" while commenting on a picture of Chrissy with her 3-year-old daughter Luna. \"She sucked it for months and doesn\\'t mind it much,\" Chrissy replied. Another user also commented on the picture and asked if she \"ever wears underwear\", to which Chrissy replied, \"You cold up there?\"', 'category': 'entertainment', 'author': 'Daisy Mowke', 'published_date': '2019-12-09T11:35:18.000Z'}, {'title': \"Salman, Katrina perform at B'desh Premier League opening ceremony\", 'content': 'Actors Salman Khan and Katrina Kaif performed at the opening ceremony of Bangabandhu Bangladesh Premier League (BPL) in Dhaka on Sunday. Sharing a picture with Bangladesh PM Sheikh Hasina, who inaugurated the seventh edition of BPL, Salman wrote, \"[I]t was a pleasure...to [meet]...Honourable Prime Minister Sheikh Hasina.\" Singers Kailash Kher and Sonu Nigam also performed at the ceremony.', 'category': 'entertainment', 'author': 'Vidushi Mishra', 'published_date': '2019-12-09T07:58:50.000Z'}, {'title': 'We just made bad films: Shah Rukh Khan on his recent films', 'content': 'Shah Rukh Khan, while talking about his recent films, said, \"I think we just made bad films.\" \"I really believe there\\'s no one reason for...movie going wrong, except for the fact that...I told...story badly,\" he said. \"With thirty years of experience of filmmaking, I cannot intellectualize...failure or...success...and I cannot get gung-ho or disturbed because of...failure or success,\" he added.', 'category': 'entertainment', 'author': 'Udit Gupta', 'published_date': '2019-12-09T11:27:36.000Z'}, {'title': 'MS Dhoni to produce TV show on army officers: Reports', 'content': \"MS Dhoni, who holds an honorary rank of Lieutenant Colonel in Parachute Regiment of Territorial Army, will reportedly produce a TV show based on the stories of army officers. It'll reportedly narrate the personal stories of the Param Vir Chakra and Ashoka Chakra awardees. The show currently is being scripted and is scheduled to release in 2020, reports added. \", 'category': 'entertainment', 'author': 'Udit Gupta', 'published_date': '2019-12-09T11:31:54.000Z'}, {'title': 'Deepika Padukone, Sara Ali Khan attend Star Screen Awards', 'content': 'Deepika Padukone and Sara Ali Khan were among the celebrities who walked on the red carpet of the Star Screen Awards. Deepika opted for a floor-length black gown with a trail and completed her look with shoulder-length loose hair. Meanwhile, Sara opted for a printed dress with a long veil and completed her outfit with a pair of matching heels. ', 'category': 'entertainment', 'author': 'Udit Gupta', 'published_date': '2019-12-09T06:41:48.000Z'}, {'title': \"'Harry Potter' role didn't satisfy me: Actress who portrayed 'McGonagall'\", 'content': 'English veteran actress Maggie Smith has revealed that although she is \"deeply grateful\" for her roles in TV series \\'Downton Abbey\\' and \\'Harry Potter\\' films, but \"it wasn\\'t what you\\'d call satisfying\". \"I didn\\'t...feel I was acting in those things,\" the two-time Oscar-winning actress said. She further revealed that it thrills her five grandchildren that she did \\'Harry Potter\\' films.', 'category': 'entertainment', 'author': 'Vidushi Mishra', 'published_date': '2019-12-09T08:02:21.000Z'}, {'title': \"I'm not a political person, don't believe in 'morchas': Usha Uthup\", 'content': 'Singer Usha Uthup has said she\\'s working as a singer to generate awareness about various social causes like, \"child abuse\", \"human trafficking\" and \"women issues\". \"It is important to give back to...society,\" she added. Usha further said she\\'s not a political person and doesn\\'t believe in \"shouting\" and going for \\'morchas\\' adding, \"I feel not much really gets done then.\"  ', 'category': 'entertainment', 'author': 'Udit Gupta', 'published_date': '2019-12-09T06:43:25.000Z'}, {'title': \"It's deeply disappointing: Dia Mirza on Hyderabad encounter\", 'content': 'After the four men accused of gangraping and murdering the 27-year-old Hyderabad veterinarian were killed in a police encounter, Dia Mirza said, \"I\\'m not in favour of encounters. I think it\\'s deeply disappointing...this has happened.\" \"There exists a judicial system so that everyone including the guilty and the innocent gets a chance to prove his crime or innocence,\" she added.', 'category': 'entertainment', 'author': 'Udit Gupta', 'published_date': '2019-12-09T10:41:41.000Z'}, {'title': \"We shouldn't be allowed to take life: Waheeda on Hyd encounter\", 'content': 'After the police killed all four men accused of raping and murdering a 27-year-old Hyderabad veterinarian in an encounter, Waheeda Rehman said, \"I...feel...we shouldn\\'t be allowed to take somebody\\'s life.\" \"We should give them (rape accused) life imprisonment,\" she stated. \"We shouldn\\'t follow legal procedure in such cases because when you\\'ve caught them red-handed...why file a case,\" she added.', 'category': 'entertainment', 'author': 'Udit Gupta', 'published_date': '2019-12-09T09:08:21.000Z'}, {'title': \"Overjoyed as 'choti behen' Lata's health is better: Dilip Kumar\", 'content': 'Veteran actor Dilip Kumar took to Twitter to express that he is overjoyed that 90-year-old singer Lata Mangeshkar, who spent 28 days at a hospital to get treatment for pneumonia, has returned home. \"Overjoyed to hear...that my \\'choti behen\\' Lata is feeling...better and is at her home now,\" he tweeted. \"Please take good care of yourself @mangeshkarlata,\" he added.', 'category': 'entertainment', 'author': 'Vidushi Mishra', 'published_date': '2019-12-09T11:09:21.000Z'}, {'title': \"Won't be in TV show again without creative role in storytelling: Ian\", 'content': 'American actor Ian Somerhalder has said that he wants to use his skill set in storytelling and wouldn\\'t do TV shows if he \"doesn\\'t have a creative role in storytelling\". \"If it\\'s Tarantino or...Spielberg, then...I\\'d be excited just to be an actor,\" he added. Talking about web TV series \\'V Wars\\', he said, \"It\\'s...a great opportunity...to produce...direct...[and] star in it.\"', 'category': 'entertainment', 'author': 'Vidushi Mishra', 'published_date': '2019-12-09T09:37:53.000Z'}, {'title': \"Don't attach ancestors' legacy to film: Randeep on 'Panipat' protests\", 'content': 'Reacting to protests against \\'Panipat\\' over alleged misrepresentation of Jat community and incorrect portrayal of Maharaja Suraj Mal, actor Randeep Hooda said that protestors shouldn\\'t attach their ancestors\\' legacy to a film. \"To glorify one community, one doesn\\'t need to show others down, it mostly has an adverse effect,\" he tweeted. \"Hoping for a more mature understanding in...future,\" he said.', 'category': 'entertainment', 'author': 'Vidushi Mishra', 'published_date': '2019-12-09T11:33:41.000Z'}, {'title': \"Thought of trying something else when my films weren't doing well: Shahid\", 'content': 'Shahid Kapoor has said he related a lot with the story of his upcoming film \\'Jersey\\', which is about a failed cricketer who decides to revive his cricketing career in his late 30s. \"I used to wonder if I should try something else...no film of mine was going blockbuster,\" he said. \"But acting is the only thing I...love,\" Shahid added.', 'category': 'entertainment', 'author': 'Udit Gupta', 'published_date': '2019-12-09T11:40:28.000Z'}, {'title': 'Sushmita Sen announces her return to films after 10 years', 'content': 'Sushmita Sen on Monday took to Instagram to announce her return to films, nearly a decade after her last Bollywood appearance in 2010 film \\'No Problem\\'. \"They (fans) have waited 10...years...I RETURN JUST FOR YOU,\" she wrote. Sushmita had earlier said she made the decision to take a break from the films after adopting her younger daughter, Alisah, in 2010. ', 'category': 'entertainment', 'author': 'Udit Gupta', 'published_date': '2019-12-09T12:00:46.000Z'}, {'title': 'Ranveer, Alia win Best Actor, Best Actress at Star Screen Awards', 'content': \"Ranveer Singh and Alia Bhatt won the Best Actor (Popular) and Best Actress (Popular), respectively, for 'Gully Boy' at the Star Screen Awards on Sunday. The award for Most Promising Actor (Male) went to Siddhant Chaturvedi for 'Gully Boy', while Sara Ali Khan won the Most Promising Actor (Female) for 'Kedarnath'. The award for Best Action film went to 'War'. \", 'category': 'entertainment', 'author': 'Udit Gupta', 'published_date': '2019-12-09T08:08:55.000Z'}, {'title': 'Any major life change is painful: Dia on her separation from husband', 'content': 'Talking about dealing with her separation from husband Sahil Sangha, actress Dia Mirza said, \"Any major life change is challenging, painful and difficult.\" \"I\\'m fortunate that the kind of work that I do gives me the opportunity to deal with the pain better,\" she added. Dia, who turned 38 years old on Monday, further said that \"work is cathartic\".', 'category': 'entertainment', 'author': 'Vidushi Mishra', 'published_date': '2019-12-09T11:41:21.000Z'}]\n"
     ]
    },
    {
     "data": {
      "text/html": [
       "<div>\n",
       "<style scoped>\n",
       "    .dataframe tbody tr th:only-of-type {\n",
       "        vertical-align: middle;\n",
       "    }\n",
       "\n",
       "    .dataframe tbody tr th {\n",
       "        vertical-align: top;\n",
       "    }\n",
       "\n",
       "    .dataframe thead th {\n",
       "        text-align: right;\n",
       "    }\n",
       "</style>\n",
       "<table border=\"1\" class=\"dataframe\">\n",
       "  <thead>\n",
       "    <tr style=\"text-align: right;\">\n",
       "      <th></th>\n",
       "      <th>author</th>\n",
       "      <th>category</th>\n",
       "      <th>content</th>\n",
       "      <th>published_date</th>\n",
       "      <th>title</th>\n",
       "    </tr>\n",
       "  </thead>\n",
       "  <tbody>\n",
       "    <tr>\n",
       "      <th>0</th>\n",
       "      <td>Krishna Veera Vanamali</td>\n",
       "      <td>business</td>\n",
       "      <td>British cave explorer Vernon Unsworth, who los...</td>\n",
       "      <td>2019-12-07T15:31:16.000Z</td>\n",
       "      <td>I'll take it on the chin: Cave explorer after ...</td>\n",
       "    </tr>\n",
       "    <tr>\n",
       "      <th>1</th>\n",
       "      <td>Krishna Veera Vanamali</td>\n",
       "      <td>business</td>\n",
       "      <td>After a US jury found that Elon Musk did not d...</td>\n",
       "      <td>2019-12-07T16:34:59.000Z</td>\n",
       "      <td>My faith in humanity is restored: Musk after w...</td>\n",
       "    </tr>\n",
       "    <tr>\n",
       "      <th>2</th>\n",
       "      <td>Dharna</td>\n",
       "      <td>business</td>\n",
       "      <td>A Lucknow-based customer has filed an FIR agai...</td>\n",
       "      <td>2019-12-09T08:17:05.000Z</td>\n",
       "      <td>FIR filed against Club Factory in Lucknow for ...</td>\n",
       "    </tr>\n",
       "    <tr>\n",
       "      <th>3</th>\n",
       "      <td>Krishna Veera Vanamali</td>\n",
       "      <td>business</td>\n",
       "      <td>Congress leader Shashi Tharoor said he wants a...</td>\n",
       "      <td>2019-12-08T01:30:55.000Z</td>\n",
       "      <td>I want a 'New India' where Bajaj can speak fea...</td>\n",
       "    </tr>\n",
       "    <tr>\n",
       "      <th>4</th>\n",
       "      <td>Pragya Swastik</td>\n",
       "      <td>business</td>\n",
       "      <td>Price of onion has shot up to ₹200 per kg in B...</td>\n",
       "      <td>2019-12-08T08:44:31.000Z</td>\n",
       "      <td>Onion prices surge up to ₹200 per kg in Bengaluru</td>\n",
       "    </tr>\n",
       "  </tbody>\n",
       "</table>\n",
       "</div>"
      ],
      "text/plain": [
       "                   author  category  \\\n",
       "0  Krishna Veera Vanamali  business   \n",
       "1  Krishna Veera Vanamali  business   \n",
       "2                  Dharna  business   \n",
       "3  Krishna Veera Vanamali  business   \n",
       "4          Pragya Swastik  business   \n",
       "\n",
       "                                             content  \\\n",
       "0  British cave explorer Vernon Unsworth, who los...   \n",
       "1  After a US jury found that Elon Musk did not d...   \n",
       "2  A Lucknow-based customer has filed an FIR agai...   \n",
       "3  Congress leader Shashi Tharoor said he wants a...   \n",
       "4  Price of onion has shot up to ₹200 per kg in B...   \n",
       "\n",
       "             published_date                                              title  \n",
       "0  2019-12-07T15:31:16.000Z  I'll take it on the chin: Cave explorer after ...  \n",
       "1  2019-12-07T16:34:59.000Z  My faith in humanity is restored: Musk after w...  \n",
       "2  2019-12-09T08:17:05.000Z  FIR filed against Club Factory in Lucknow for ...  \n",
       "3  2019-12-08T01:30:55.000Z  I want a 'New India' where Bajaj can speak fea...  \n",
       "4  2019-12-08T08:44:31.000Z  Onion prices surge up to ₹200 per kg in Bengaluru  "
      ]
     },
     "execution_count": 3,
     "metadata": {},
     "output_type": "execute_result"
    }
   ],
   "source": [
    "news = acquire_news.make_new_request()\n",
    "news.head()"
   ]
  },
  {
   "cell_type": "code",
   "execution_count": 4,
   "metadata": {},
   "outputs": [],
   "source": [
    "df = news[[\"content\", \"category\"]]"
   ]
  },
  {
   "cell_type": "code",
   "execution_count": 5,
   "metadata": {},
   "outputs": [],
   "source": [
    "df[\"stemmed\"] = df.content.apply(prepare.basic_clean).apply(prepare.tokenize).apply(prepare.stem)\n",
    "df[\"lemmatized\"] = df.content.apply(prepare.basic_clean).apply(prepare.tokenize).apply(prepare.lemmatize)"
   ]
  },
  {
   "cell_type": "code",
   "execution_count": 6,
   "metadata": {},
   "outputs": [
    {
     "data": {
      "text/html": [
       "<div>\n",
       "<style scoped>\n",
       "    .dataframe tbody tr th:only-of-type {\n",
       "        vertical-align: middle;\n",
       "    }\n",
       "\n",
       "    .dataframe tbody tr th {\n",
       "        vertical-align: top;\n",
       "    }\n",
       "\n",
       "    .dataframe thead th {\n",
       "        text-align: right;\n",
       "    }\n",
       "</style>\n",
       "<table border=\"1\" class=\"dataframe\">\n",
       "  <thead>\n",
       "    <tr style=\"text-align: right;\">\n",
       "      <th></th>\n",
       "      <th>content</th>\n",
       "      <th>category</th>\n",
       "      <th>stemmed</th>\n",
       "      <th>lemmatized</th>\n",
       "    </tr>\n",
       "  </thead>\n",
       "  <tbody>\n",
       "    <tr>\n",
       "      <th>0</th>\n",
       "      <td>British cave explorer Vernon Unsworth, who los...</td>\n",
       "      <td>business</td>\n",
       "      <td>british cave explor vernon unsworth who lost t...</td>\n",
       "      <td>british cave explorer vernon unsworth who lost...</td>\n",
       "    </tr>\n",
       "    <tr>\n",
       "      <th>1</th>\n",
       "      <td>After a US jury found that Elon Musk did not d...</td>\n",
       "      <td>business</td>\n",
       "      <td>after a us juri found that elon musk did not d...</td>\n",
       "      <td>after a u jury found that elon musk did not de...</td>\n",
       "    </tr>\n",
       "    <tr>\n",
       "      <th>2</th>\n",
       "      <td>A Lucknow-based customer has filed an FIR agai...</td>\n",
       "      <td>business</td>\n",
       "      <td>a lucknowbas custom ha file an fir against chi...</td>\n",
       "      <td>a lucknowbased customer ha filed an fir agains...</td>\n",
       "    </tr>\n",
       "    <tr>\n",
       "      <th>3</th>\n",
       "      <td>Congress leader Shashi Tharoor said he wants a...</td>\n",
       "      <td>business</td>\n",
       "      <td>congress leader shashi tharoor said he want a ...</td>\n",
       "      <td>congress leader shashi tharoor said he want a ...</td>\n",
       "    </tr>\n",
       "    <tr>\n",
       "      <th>4</th>\n",
       "      <td>Price of onion has shot up to ₹200 per kg in B...</td>\n",
       "      <td>business</td>\n",
       "      <td>price of onion ha shot up to 200 per kg in ben...</td>\n",
       "      <td>price of onion ha shot up to 200 per kg in ben...</td>\n",
       "    </tr>\n",
       "  </tbody>\n",
       "</table>\n",
       "</div>"
      ],
      "text/plain": [
       "                                             content  category  \\\n",
       "0  British cave explorer Vernon Unsworth, who los...  business   \n",
       "1  After a US jury found that Elon Musk did not d...  business   \n",
       "2  A Lucknow-based customer has filed an FIR agai...  business   \n",
       "3  Congress leader Shashi Tharoor said he wants a...  business   \n",
       "4  Price of onion has shot up to ₹200 per kg in B...  business   \n",
       "\n",
       "                                             stemmed  \\\n",
       "0  british cave explor vernon unsworth who lost t...   \n",
       "1  after a us juri found that elon musk did not d...   \n",
       "2  a lucknowbas custom ha file an fir against chi...   \n",
       "3  congress leader shashi tharoor said he want a ...   \n",
       "4  price of onion ha shot up to 200 per kg in ben...   \n",
       "\n",
       "                                          lemmatized  \n",
       "0  british cave explorer vernon unsworth who lost...  \n",
       "1  after a u jury found that elon musk did not de...  \n",
       "2  a lucknowbased customer ha filed an fir agains...  \n",
       "3  congress leader shashi tharoor said he want a ...  \n",
       "4  price of onion ha shot up to 200 per kg in ben...  "
      ]
     },
     "execution_count": 6,
     "metadata": {},
     "output_type": "execute_result"
    }
   ],
   "source": [
    "df.head()"
   ]
  },
  {
   "cell_type": "markdown",
   "metadata": {},
   "source": [
    "### TF-IDF"
   ]
  },
  {
   "cell_type": "code",
   "execution_count": 14,
   "metadata": {},
   "outputs": [],
   "source": [
    "from sklearn.feature_extraction.text import TfidfVectorizer"
   ]
  },
  {
   "cell_type": "code",
   "execution_count": 18,
   "metadata": {},
   "outputs": [],
   "source": [
    "vectorizer = TfidfVectorizer()\n",
    "X = vectorizer.fit_transform(df.content)\n",
    "y = df.category"
   ]
  },
  {
   "cell_type": "markdown",
   "metadata": {},
   "source": [
    "### MODELING"
   ]
  },
  {
   "cell_type": "code",
   "execution_count": 29,
   "metadata": {},
   "outputs": [],
   "source": [
    "from sklearn.model_selection import train_test_split\n",
    "from sklearn.metrics import classification_report, accuracy_score, confusion_matrix\n",
    "from sklearn.tree import DecisionTreeClassifier"
   ]
  },
  {
   "cell_type": "code",
   "execution_count": 19,
   "metadata": {},
   "outputs": [],
   "source": [
    "X_train, X_test, y_train, y_test = train_test_split(X, y, test_size=.2, random_state=123,stratify=y)"
   ]
  },
  {
   "cell_type": "code",
   "execution_count": 22,
   "metadata": {},
   "outputs": [
    {
     "data": {
      "text/plain": [
       "DecisionTreeClassifier(class_weight=None, criterion='entropy', max_depth=None,\n",
       "                       max_features=None, max_leaf_nodes=None,\n",
       "                       min_impurity_decrease=0.0, min_impurity_split=None,\n",
       "                       min_samples_leaf=1, min_samples_split=5,\n",
       "                       min_weight_fraction_leaf=0.0, presort=False,\n",
       "                       random_state=123, splitter='best')"
      ]
     },
     "execution_count": 22,
     "metadata": {},
     "output_type": "execute_result"
    }
   ],
   "source": [
    "dt = DecisionTreeClassifier(criterion=\"entropy\",random_state=123, min_samples_split=5, min_samples_leaf=1)\n",
    "dt.fit(X_train, y_train)"
   ]
  },
  {
   "cell_type": "code",
   "execution_count": 23,
   "metadata": {},
   "outputs": [],
   "source": [
    "yhat = dt.predict(X_train)"
   ]
  },
  {
   "cell_type": "code",
   "execution_count": 35,
   "metadata": {},
   "outputs": [],
   "source": [
    "conf_matrix = confusion_matrix(y_train, yhat)\n",
    "categories = [\"business\",\"entertainment\",\"sports\",\"technology\"]"
   ]
  },
  {
   "cell_type": "code",
   "execution_count": 36,
   "metadata": {},
   "outputs": [
    {
     "data": {
      "text/html": [
       "<div>\n",
       "<style scoped>\n",
       "    .dataframe tbody tr th:only-of-type {\n",
       "        vertical-align: middle;\n",
       "    }\n",
       "\n",
       "    .dataframe tbody tr th {\n",
       "        vertical-align: top;\n",
       "    }\n",
       "\n",
       "    .dataframe thead th {\n",
       "        text-align: right;\n",
       "    }\n",
       "</style>\n",
       "<table border=\"1\" class=\"dataframe\">\n",
       "  <thead>\n",
       "    <tr style=\"text-align: right;\">\n",
       "      <th></th>\n",
       "      <th>business</th>\n",
       "      <th>entertainment</th>\n",
       "      <th>sports</th>\n",
       "      <th>technology</th>\n",
       "    </tr>\n",
       "  </thead>\n",
       "  <tbody>\n",
       "    <tr>\n",
       "      <th>business</th>\n",
       "      <td>18</td>\n",
       "      <td>0</td>\n",
       "      <td>0</td>\n",
       "      <td>1</td>\n",
       "    </tr>\n",
       "    <tr>\n",
       "      <th>entertainment</th>\n",
       "      <td>0</td>\n",
       "      <td>19</td>\n",
       "      <td>1</td>\n",
       "      <td>0</td>\n",
       "    </tr>\n",
       "    <tr>\n",
       "      <th>sports</th>\n",
       "      <td>0</td>\n",
       "      <td>2</td>\n",
       "      <td>18</td>\n",
       "      <td>0</td>\n",
       "    </tr>\n",
       "    <tr>\n",
       "      <th>technology</th>\n",
       "      <td>2</td>\n",
       "      <td>0</td>\n",
       "      <td>1</td>\n",
       "      <td>17</td>\n",
       "    </tr>\n",
       "  </tbody>\n",
       "</table>\n",
       "</div>"
      ],
      "text/plain": [
       "               business  entertainment  sports  technology\n",
       "business             18              0       0           1\n",
       "entertainment         0             19       1           0\n",
       "sports                0              2      18           0\n",
       "technology            2              0       1          17"
      ]
     },
     "execution_count": 36,
     "metadata": {},
     "output_type": "execute_result"
    }
   ],
   "source": [
    "pd.DataFrame(conf_matrix,index=categories, columns=categories)"
   ]
  },
  {
   "cell_type": "code",
   "execution_count": 27,
   "metadata": {},
   "outputs": [
    {
     "name": "stdout",
     "output_type": "stream",
     "text": [
      "               precision    recall  f1-score   support\n",
      "\n",
      "     business       0.90      0.95      0.92        19\n",
      "entertainment       0.90      0.95      0.93        20\n",
      "       sports       0.90      0.90      0.90        20\n",
      "   technology       0.94      0.85      0.89        20\n",
      "\n",
      "     accuracy                           0.91        79\n",
      "    macro avg       0.91      0.91      0.91        79\n",
      " weighted avg       0.91      0.91      0.91        79\n",
      "\n"
     ]
    }
   ],
   "source": [
    "print(classification_report(y_train, yhat))"
   ]
  }
 ],
 "metadata": {
  "kernelspec": {
   "display_name": "Python 3",
   "language": "python",
   "name": "python3"
  },
  "language_info": {
   "codemirror_mode": {
    "name": "ipython",
    "version": 3
   },
   "file_extension": ".py",
   "mimetype": "text/x-python",
   "name": "python",
   "nbconvert_exporter": "python",
   "pygments_lexer": "ipython3",
   "version": "3.7.3"
  }
 },
 "nbformat": 4,
 "nbformat_minor": 2
}
