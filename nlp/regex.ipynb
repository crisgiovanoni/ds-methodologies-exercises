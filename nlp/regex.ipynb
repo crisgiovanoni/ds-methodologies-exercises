{
 "cells": [
  {
   "cell_type": "markdown",
   "metadata": {},
   "source": [
    "## Exercises\n",
    "1. Write a function named is_vowel. It should accept a string as input and use a regular expression to determine if the passed string is a vowel. While not explicity mentioned in the lesson, you can treat the result of re.search as a boolean value that indicates whether or not the regular expression matches the given string.  \n",
    "  \n",
    "2. Write a function named is_valid_username that accepts a string as input. A valid username starts with a lowercase letter, and only consists of lowercase letters, numbers, or the _ character. It should also be no longer than 32 characters. The function should return either True or False depending on whether the passed string is a valid username.\n",
    "  \n",
    "3. Write a regular expression to capture phone numbers. It should match all of the following:\n",
    "  \n",
    "4. Use regular expressions to convert the dates below to the standardized year-month-day format.\n",
    "  \n",
    "5. Write a regex to extract the various parts of these logfile lines:\n",
    "  \n",
    "6. Use this file to answer the following questions:\n",
    "    - How many words have at least 3 vowels?\n",
    "    - How many words have at least 3 vowels in a row?\n",
    "    - How many words have at least 4 consonants in a row?\n",
    "    - How many words start and end with the same letter?\n",
    "    - How many words start and end with a vowel?\n",
    "    - How many words contain the same letter 3 times in a row?\n",
    "    - What other interesting patterns in words can you find?"
   ]
  },
  {
   "cell_type": "code",
   "execution_count": 13,
   "metadata": {},
   "outputs": [],
   "source": [
    "import pandas as pd\n",
    "import numpy as np\n",
    "import re"
   ]
  },
  {
   "cell_type": "markdown",
   "metadata": {},
   "source": [
    "---"
   ]
  },
  {
   "cell_type": "markdown",
   "metadata": {},
   "source": [
    "Write a function named `is_vowel`.  \n",
    "It should accept a string as input and use a regular expression to determine if the passed string is a vowel.  \n",
    "While not explicity mentioned in the lesson, you can treat the result of `re.search` as a boolean value that indicates whether or not the regular expression matches the given string."
   ]
  },
  {
   "cell_type": "code",
   "execution_count": 4,
   "metadata": {},
   "outputs": [],
   "source": [
    "string = \"hello\""
   ]
  },
  {
   "cell_type": "code",
   "execution_count": 11,
   "metadata": {},
   "outputs": [],
   "source": [
    "re.search(r'[aeiouAEIOU]', string)"
   ]
  },
  {
   "cell_type": "code",
   "execution_count": 23,
   "metadata": {},
   "outputs": [],
   "source": [
    "def is_vowel(string):\n",
    "    if re.search(r'[aeiouAEIOU]', string):\n",
    "        print(\"True\")"
   ]
  },
  {
   "cell_type": "code",
   "execution_count": 26,
   "metadata": {},
   "outputs": [
    {
     "name": "stdout",
     "output_type": "stream",
     "text": [
      "None\n"
     ]
    }
   ],
   "source": [
    "is_vowel(\"h\")"
   ]
  },
  {
   "cell_type": "code",
   "execution_count": null,
   "metadata": {},
   "outputs": [],
   "source": []
  }
 ],
 "metadata": {
  "kernelspec": {
   "display_name": "Python 3",
   "language": "python",
   "name": "python3"
  },
  "language_info": {
   "codemirror_mode": {
    "name": "ipython",
    "version": 3
   },
   "file_extension": ".py",
   "mimetype": "text/x-python",
   "name": "python",
   "nbconvert_exporter": "python",
   "pygments_lexer": "ipython3",
   "version": "3.7.3"
  }
 },
 "nbformat": 4,
 "nbformat_minor": 2
}
